{
 "cells": [
  {
   "metadata": {
    "ExecuteTime": {
     "end_time": "2024-10-13T11:15:12.565419Z",
     "start_time": "2024-10-13T11:15:11.549899Z"
    }
   },
   "cell_type": "code",
   "source": [
    "from torch.utils.checkpoint import checkpoint\n",
    "!pip install torch torchvision torchaudio matplotlib numpy tqdm"
   ],
   "id": "784d61311e18434e",
   "outputs": [
    {
     "name": "stdout",
     "output_type": "stream",
     "text": [
      "Requirement already satisfied: torch in ./venv/lib/python3.12/site-packages (2.4.1)\r\n",
      "Requirement already satisfied: torchvision in ./venv/lib/python3.12/site-packages (0.19.1)\r\n",
      "Requirement already satisfied: torchaudio in ./venv/lib/python3.12/site-packages (2.4.1)\r\n",
      "Requirement already satisfied: matplotlib in ./venv/lib/python3.12/site-packages (3.9.2)\r\n",
      "Requirement already satisfied: numpy in ./venv/lib/python3.12/site-packages (2.1.1)\r\n",
      "Requirement already satisfied: tqdm in ./venv/lib/python3.12/site-packages (4.66.5)\r\n",
      "Requirement already satisfied: filelock in ./venv/lib/python3.12/site-packages (from torch) (3.16.1)\r\n",
      "Requirement already satisfied: typing-extensions>=4.8.0 in ./venv/lib/python3.12/site-packages (from torch) (4.12.2)\r\n",
      "Requirement already satisfied: sympy in ./venv/lib/python3.12/site-packages (from torch) (1.13.3)\r\n",
      "Requirement already satisfied: networkx in ./venv/lib/python3.12/site-packages (from torch) (3.3)\r\n",
      "Requirement already satisfied: jinja2 in ./venv/lib/python3.12/site-packages (from torch) (3.1.4)\r\n",
      "Requirement already satisfied: fsspec in ./venv/lib/python3.12/site-packages (from torch) (2024.9.0)\r\n",
      "Requirement already satisfied: setuptools in ./venv/lib/python3.12/site-packages (from torch) (75.1.0)\r\n",
      "Requirement already satisfied: pillow!=8.3.*,>=5.3.0 in ./venv/lib/python3.12/site-packages (from torchvision) (10.4.0)\r\n",
      "Requirement already satisfied: contourpy>=1.0.1 in ./venv/lib/python3.12/site-packages (from matplotlib) (1.3.0)\r\n",
      "Requirement already satisfied: cycler>=0.10 in ./venv/lib/python3.12/site-packages (from matplotlib) (0.12.1)\r\n",
      "Requirement already satisfied: fonttools>=4.22.0 in ./venv/lib/python3.12/site-packages (from matplotlib) (4.54.1)\r\n",
      "Requirement already satisfied: kiwisolver>=1.3.1 in ./venv/lib/python3.12/site-packages (from matplotlib) (1.4.7)\r\n",
      "Requirement already satisfied: packaging>=20.0 in ./venv/lib/python3.12/site-packages (from matplotlib) (24.1)\r\n",
      "Requirement already satisfied: pyparsing>=2.3.1 in ./venv/lib/python3.12/site-packages (from matplotlib) (3.1.4)\r\n",
      "Requirement already satisfied: python-dateutil>=2.7 in ./venv/lib/python3.12/site-packages (from matplotlib) (2.9.0.post0)\r\n",
      "Requirement already satisfied: six>=1.5 in ./venv/lib/python3.12/site-packages (from python-dateutil>=2.7->matplotlib) (1.16.0)\r\n",
      "Requirement already satisfied: MarkupSafe>=2.0 in ./venv/lib/python3.12/site-packages (from jinja2->torch) (2.1.5)\r\n",
      "Requirement already satisfied: mpmath<1.4,>=1.1.0 in ./venv/lib/python3.12/site-packages (from sympy->torch) (1.3.0)\r\n"
     ]
    }
   ],
   "execution_count": 156
  },
  {
   "cell_type": "code",
   "id": "initial_id",
   "metadata": {
    "collapsed": true,
    "ExecuteTime": {
     "end_time": "2024-10-13T11:15:12.579575Z",
     "start_time": "2024-10-13T11:15:12.574642Z"
    }
   },
   "source": [
    "# base\n",
    "import os\n",
    "import json\n",
    "import numpy as np\n",
    "import matplotlib.pyplot as plt\n",
    "from PIL import Image\n",
    "\n",
    "import torch\n",
    "import torch.nn as nn\n",
    "import torchvision\n",
    "from tqdm import tqdm\n",
    "\n",
    "# helpers\n",
    "from torchvision.datasets import ImageFolder\n",
    "from torch.utils.data import Dataset, DataLoader, random_split\n",
    "from torchvision import transforms\n",
    "from torchvision.transforms import v2"
   ],
   "outputs": [],
   "execution_count": 157
  },
  {
   "metadata": {
    "ExecuteTime": {
     "end_time": "2024-10-13T11:15:12.906589Z",
     "start_time": "2024-10-13T11:15:12.902166Z"
    }
   },
   "cell_type": "code",
   "source": "plt.style.use('Solarize_Light2')",
   "id": "65fc9ca257d0252e",
   "outputs": [],
   "execution_count": 158
  },
  {
   "metadata": {
    "ExecuteTime": {
     "end_time": "2024-10-13T11:15:13.299508Z",
     "start_time": "2024-10-13T11:15:13.297255Z"
    }
   },
   "cell_type": "code",
   "source": [
    "device = 'cuda' if torch.cuda.is_available() else 'cpu'\n",
    "print(f'Device: {device}')"
   ],
   "id": "1ff8f6ccec645ff3",
   "outputs": [
    {
     "name": "stdout",
     "output_type": "stream",
     "text": [
      "Device: cpu\n"
     ]
    }
   ],
   "execution_count": 159
  },
  {
   "metadata": {
    "ExecuteTime": {
     "end_time": "2024-10-13T11:15:13.918007Z",
     "start_time": "2024-10-13T11:15:13.914761Z"
    }
   },
   "cell_type": "code",
   "source": [
    "class DatasetReg (Dataset):\n",
    "    def __init__(self, path, transform=None):\n",
    "        self.path = path\n",
    "        self.transform = transform\n",
    "        \n",
    "        self.list_name_file = os.listdir(path)\n",
    "        if 'coords.json' in self.list_name_file:\n",
    "            self.list_name_file.remove('coords.json')\n",
    "        \n",
    "        self.len_dataset = len(self.list_name_file)\n",
    "        \n",
    "        with open(os.path.join(self.path, 'coords.json'), 'r') as f:\n",
    "            self.dict_coords = json.load(f)\n",
    "\n",
    "    def __getitem__(self, index):\n",
    "        name_file = self.list_name_file[index]\n",
    "        path_img = os.path.join(self.path, name_file)\n",
    "        \n",
    "        img = Image.open(path_img)\n",
    "        coord = torch.tensor(self.dict_coords[name_file], dtype=torch.float32)\n",
    "        \n",
    "        if self.transform is not None:\n",
    "            img = self.transform(img)\n",
    "        \n",
    "        return img, coord\n",
    "\n",
    "    def __len__(self):\n",
    "        return self.len_dataset"
   ],
   "id": "b099ff99643635b",
   "outputs": [],
   "execution_count": 160
  },
  {
   "metadata": {
    "ExecuteTime": {
     "end_time": "2024-10-13T11:15:46.818973Z",
     "start_time": "2024-10-13T11:15:46.693536Z"
    }
   },
   "cell_type": "code",
   "source": [
    "transform = v2.Compose([\n",
    "    v2.ToImage(),\n",
    "    # v2.ToDtype(torch.float32, scale=True),\n",
    "    # v2.Normalize(mean=(0.5, ), std=(0.5, ))\n",
    "])\n",
    "\n",
    "dataset = DatasetReg('./dataset', transform=transform)\n",
    "\n",
    "dataset[2000]"
   ],
   "id": "ae3c489e23d758ee",
   "outputs": [
    {
     "data": {
      "text/plain": [
       "(Image([[[29,  0,  8,  ..., 42, 31, 32],\n",
       "         [56, 40, 21,  ..., 34,  0, 32],\n",
       "         [34, 12, 23,  ...,  0, 18,  1],\n",
       "         ...,\n",
       "         [43, 17, 38,  ...,  5, 46, 11],\n",
       "         [27, 31, 25,  ...,  8, 49, 35],\n",
       "         [ 4, 13, 22,  ..., 32, 31, 13]]], dtype=torch.uint8, ),\n",
       " tensor([24., 26.]))"
      ]
     },
     "execution_count": 163,
     "metadata": {},
     "output_type": "execute_result"
    }
   ],
   "execution_count": 163
  },
  {
   "metadata": {
    "ExecuteTime": {
     "end_time": "2024-10-13T08:03:39.983129Z",
     "start_time": "2024-10-13T08:03:39.978751Z"
    }
   },
   "cell_type": "code",
   "source": "train_set, val_set, test_set = random_split(dataset, [0.7, 0.1, 0.2])",
   "id": "342f900fe71b4518",
   "outputs": [],
   "execution_count": 119
  },
  {
   "metadata": {
    "ExecuteTime": {
     "end_time": "2024-10-13T08:03:40.557580Z",
     "start_time": "2024-10-13T08:03:40.555161Z"
    }
   },
   "cell_type": "code",
   "source": [
    "train_loader = DataLoader(train_set, batch_size=16, shuffle=True)\n",
    "val_loader = DataLoader(val_set, batch_size=16, shuffle=False)\n",
    "test_loader = DataLoader(test_set, batch_size=16, shuffle=False)"
   ],
   "id": "aba6e63669bf2c3e",
   "outputs": [],
   "execution_count": 120
  },
  {
   "metadata": {
    "ExecuteTime": {
     "end_time": "2024-10-13T08:03:41.102399Z",
     "start_time": "2024-10-13T08:03:41.096070Z"
    }
   },
   "cell_type": "code",
   "source": [
    "class MyModel(nn.Module):\n",
    "    def __init__(self, input_size, output_size):\n",
    "        super().__init__()\n",
    "        self.layer_1 = nn.Linear(input_size, 128)\n",
    "        self.layer_2 = nn.Linear(128, output_size)\n",
    "        self.act = nn.ReLU()\n",
    "    \n",
    "    def forward(self, x):\n",
    "        x = self.layer_1(x)\n",
    "        x = self.act(x)\n",
    "        out = self.layer_2(x)\n",
    "        \n",
    "        return out\n",
    "    \n",
    "model = MyModel(input_size=64*64, output_size=2).to(device)\n"
   ],
   "id": "462fa0115441ecfb",
   "outputs": [],
   "execution_count": 121
  },
  {
   "metadata": {
    "ExecuteTime": {
     "end_time": "2024-10-13T08:03:41.591373Z",
     "start_time": "2024-10-13T08:03:41.588218Z"
    }
   },
   "cell_type": "code",
   "source": [
    "loss_model = nn.MSELoss()\n",
    "opt = torch.optim.Adam(model.parameters(), lr=0.001)\n",
    "lr_scheduler = torch.optim.lr_scheduler.ReduceLROnPlateau(opt, \n",
    "                                                          mode='min',\n",
    "                                                          factor=0.1,\n",
    "                                                          patience=5)"
   ],
   "id": "b24e6d83f8bc01d1",
   "outputs": [],
   "execution_count": 122
  },
  {
   "metadata": {
    "ExecuteTime": {
     "end_time": "2024-10-13T10:02:19.437485Z",
     "start_time": "2024-10-13T10:02:19.434686Z"
    }
   },
   "cell_type": "code",
   "source": [
    "EPOCHS = 30\n",
    "train_loss = []\n",
    "train_acc = []\n",
    "val_loss = []\n",
    "val_acc = []\n",
    "lr_list = []\n",
    "\n",
    "# save/load model\n",
    "best_loss_epoch = None\n",
    "best_loss = None"
   ],
   "id": "a8b438c03fb1c6ec",
   "outputs": [],
   "execution_count": 155
  },
  {
   "metadata": {
    "ExecuteTime": {
     "end_time": "2024-10-13T08:03:42.788507Z",
     "start_time": "2024-10-13T08:03:42.786740Z"
    }
   },
   "cell_type": "code",
   "source": [
    "# input = torch.rand([16, 64*64], dtype=torch.float32).to(device)\n",
    "# \n",
    "# out = model(input)\n",
    "# out.shape"
   ],
   "id": "7f23cdf450df49c2",
   "outputs": [],
   "execution_count": 124
  },
  {
   "metadata": {
    "ExecuteTime": {
     "end_time": "2024-10-13T08:13:11.615145Z",
     "start_time": "2024-10-13T08:03:43.385698Z"
    }
   },
   "cell_type": "code",
   "source": [
    "for epoch in range(EPOCHS):\n",
    "\n",
    "    # INFO model training\n",
    "    model.train()\n",
    "    train_loop = tqdm(train_loader, leave=False)\n",
    "    \n",
    "    running_train_loss = []\n",
    "    true_answer_counter = 0\n",
    "    for x, targets in train_loop:        \n",
    "        x = x.reshape(-1, 64*64).to(device)\n",
    "        targets = targets.to(device) \n",
    "        \n",
    "        prediction = model(x) # forward method\n",
    "        loss = loss_model(prediction, targets) # loss func\n",
    "        \n",
    "        # back prapagetion start\n",
    "        opt.zero_grad() # reset previously calculated gradients\n",
    "        loss.backward()\n",
    "        # back prapagetion end\n",
    "        \n",
    "        # optimization step\n",
    "        opt.step()\n",
    "        \n",
    "        # INFO training process visualization\n",
    "        running_train_loss.append(loss.item())\n",
    "        mean_train_loss = sum(running_train_loss)/len(running_train_loss)\n",
    "        \n",
    "        true_answer_counter += (torch.round(prediction) == targets).all(dim=1).sum().item()\n",
    "        \n",
    "        train_loop.set_description(f'Epoch [{epoch+1}/{EPOCHS}], train_loss_avg: {mean_train_loss:.4f}')\n",
    "\n",
    "    running_train_acc = true_answer_counter/len(train_set)\n",
    "    \n",
    "    train_loss.append(mean_train_loss)\n",
    "    train_acc.append(running_train_acc)\n",
    "    \n",
    "    # INFO model validation\n",
    "    model.eval()\n",
    "    with torch.no_grad():\n",
    "        running_val_loss = []\n",
    "        true_answer_counter = 0\n",
    "        for x, targets in val_loader:\n",
    "            x = x.reshape(-1, 64*64).to(device)\n",
    "            targets = targets.to(device) \n",
    "            \n",
    "            prediction = model(x)\n",
    "            loss = loss_model(prediction, targets)\n",
    "            \n",
    "            # INFO training process visualization\n",
    "            running_val_loss.append(loss.item())\n",
    "            mean_val_loss = sum(running_val_loss)/len(running_val_loss)\n",
    "            \n",
    "            true_answer_counter += (torch.round(prediction) == targets).all(dim=1).sum().item()\n",
    "    \n",
    "        running_val_acc = true_answer_counter / len(val_set)\n",
    "        \n",
    "        val_loss.append(mean_val_loss)\n",
    "        val_acc.append(running_val_acc)\n",
    "    \n",
    "    lr_scheduler.step(mean_val_loss)\n",
    "    lr = lr_scheduler._last_lr[0]\n",
    "    lr_list.append(lr)\n",
    "        \n",
    "    print(f'Epoch [{epoch+1}/{EPOCHS}], train_loss: {mean_train_loss:.4f}, train_metric_acc: {running_train_acc:.4f}, val_loss: {mean_val_loss:.4f}, val_metric_acc: {running_val_acc:.4f}, lr: {lr:.4f}')\n",
    "    \n",
    "    if best_loss is None:\n",
    "        best_loss = mean_train_loss\n",
    "        best_loss_epoch = epoch\n",
    "    if mean_train_loss < best_loss: # better best_loss - mean_val_loss > threshold | mean_val_loss < best_loss - best_loss * threshold\n",
    "        \n",
    "        path = f'serialized/regression/regression_model_state_dict_epoch_{best_loss_epoch+1}.pt'\n",
    "        if os.path.exists(path):    \n",
    "            os.remove(path)\n",
    "        \n",
    "        best_loss = mean_train_loss\n",
    "        best_loss_epoch = epoch\n",
    "        torch.save(model.state_dict(), f'serialized/regression/regression_model_state_dict_epoch_{epoch+1}.pt')\n",
    "        \n",
    "        print(f'Epoch - {epoch+1}, model has been saved with loss on validation set - {mean_train_loss:.4f}', end='\\n\\n')"
   ],
   "id": "10f4deedeabb6895",
   "outputs": [
    {
     "name": "stderr",
     "output_type": "stream",
     "text": [
      "                                                                                          \r"
     ]
    },
    {
     "name": "stdout",
     "output_type": "stream",
     "text": [
      "Epoch [1/15], train_loss: 1.6616, train_metric_acc: 0.6538, val_loss: 0.1202, val_metric_acc: 0.7188, lr: 0.0010\n"
     ]
    },
    {
     "name": "stderr",
     "output_type": "stream",
     "text": [
      "                                                                                          \r"
     ]
    },
    {
     "name": "stdout",
     "output_type": "stream",
     "text": [
      "Epoch [2/15], train_loss: 0.1335, train_metric_acc: 0.6941, val_loss: 0.1613, val_metric_acc: 0.6086, lr: 0.0010\n",
      "Epoch - 2, model has been saved with loss on validation set - 0.1335\n",
      "\n"
     ]
    },
    {
     "name": "stderr",
     "output_type": "stream",
     "text": [
      "                                                                                          \r"
     ]
    },
    {
     "name": "stdout",
     "output_type": "stream",
     "text": [
      "Epoch [3/15], train_loss: 0.1145, train_metric_acc: 0.7485, val_loss: 0.0970, val_metric_acc: 0.8012, lr: 0.0010\n",
      "Epoch - 3, model has been saved with loss on validation set - 0.1145\n",
      "\n"
     ]
    },
    {
     "name": "stderr",
     "output_type": "stream",
     "text": [
      "                                                                                          \r"
     ]
    },
    {
     "name": "stdout",
     "output_type": "stream",
     "text": [
      "Epoch [4/15], train_loss: 0.0982, train_metric_acc: 0.7990, val_loss: 0.0759, val_metric_acc: 0.8663, lr: 0.0010\n",
      "Epoch - 4, model has been saved with loss on validation set - 0.0982\n",
      "\n"
     ]
    },
    {
     "name": "stderr",
     "output_type": "stream",
     "text": [
      "                                                                                          \r"
     ]
    },
    {
     "name": "stdout",
     "output_type": "stream",
     "text": [
      "Epoch [5/15], train_loss: 0.0866, train_metric_acc: 0.8363, val_loss: 0.0581, val_metric_acc: 0.9296, lr: 0.0010\n",
      "Epoch - 5, model has been saved with loss on validation set - 0.0866\n",
      "\n"
     ]
    },
    {
     "name": "stderr",
     "output_type": "stream",
     "text": [
      "                                                                                          \r"
     ]
    },
    {
     "name": "stdout",
     "output_type": "stream",
     "text": [
      "Epoch [6/15], train_loss: 0.0808, train_metric_acc: 0.8540, val_loss: 0.0538, val_metric_acc: 0.9414, lr: 0.0010\n",
      "Epoch - 6, model has been saved with loss on validation set - 0.0808\n",
      "\n"
     ]
    },
    {
     "name": "stderr",
     "output_type": "stream",
     "text": [
      "                                                                                          \r"
     ]
    },
    {
     "name": "stdout",
     "output_type": "stream",
     "text": [
      "Epoch [7/15], train_loss: 0.0741, train_metric_acc: 0.8755, val_loss: 0.0571, val_metric_acc: 0.9283, lr: 0.0010\n",
      "Epoch - 7, model has been saved with loss on validation set - 0.0741\n",
      "\n"
     ]
    },
    {
     "name": "stderr",
     "output_type": "stream",
     "text": [
      "                                                                                          \r"
     ]
    },
    {
     "name": "stdout",
     "output_type": "stream",
     "text": [
      "Epoch [8/15], train_loss: 0.0707, train_metric_acc: 0.8869, val_loss: 0.0519, val_metric_acc: 0.9428, lr: 0.0010\n",
      "Epoch - 8, model has been saved with loss on validation set - 0.0707\n",
      "\n"
     ]
    },
    {
     "name": "stderr",
     "output_type": "stream",
     "text": [
      "                                                                                          \r"
     ]
    },
    {
     "name": "stdout",
     "output_type": "stream",
     "text": [
      "Epoch [9/15], train_loss: 0.0671, train_metric_acc: 0.8982, val_loss: 0.0515, val_metric_acc: 0.9431, lr: 0.0010\n",
      "Epoch - 9, model has been saved with loss on validation set - 0.0671\n",
      "\n"
     ]
    },
    {
     "name": "stderr",
     "output_type": "stream",
     "text": [
      "                                                                                           \r"
     ]
    },
    {
     "name": "stdout",
     "output_type": "stream",
     "text": [
      "Epoch [10/15], train_loss: 0.0645, train_metric_acc: 0.9054, val_loss: 0.0457, val_metric_acc: 0.9608, lr: 0.0010\n",
      "Epoch - 10, model has been saved with loss on validation set - 0.0645\n",
      "\n"
     ]
    },
    {
     "name": "stderr",
     "output_type": "stream",
     "text": [
      "                                                                                           \r"
     ]
    },
    {
     "name": "stdout",
     "output_type": "stream",
     "text": [
      "Epoch [11/15], train_loss: 0.0596, train_metric_acc: 0.9200, val_loss: 0.0954, val_metric_acc: 0.8298, lr: 0.0010\n",
      "Epoch - 11, model has been saved with loss on validation set - 0.0596\n",
      "\n"
     ]
    },
    {
     "name": "stderr",
     "output_type": "stream",
     "text": [
      "                                                                                           \r"
     ]
    },
    {
     "name": "stdout",
     "output_type": "stream",
     "text": [
      "Epoch [12/15], train_loss: 0.0582, train_metric_acc: 0.9239, val_loss: 0.0515, val_metric_acc: 0.9405, lr: 0.0010\n",
      "Epoch - 12, model has been saved with loss on validation set - 0.0582\n",
      "\n"
     ]
    },
    {
     "name": "stderr",
     "output_type": "stream",
     "text": [
      "                                                                                           \r"
     ]
    },
    {
     "name": "stdout",
     "output_type": "stream",
     "text": [
      "Epoch [13/15], train_loss: 0.0564, train_metric_acc: 0.9300, val_loss: 0.0591, val_metric_acc: 0.9258, lr: 0.0010\n",
      "Epoch - 13, model has been saved with loss on validation set - 0.0564\n",
      "\n"
     ]
    },
    {
     "name": "stderr",
     "output_type": "stream",
     "text": [
      "                                                                                           \r"
     ]
    },
    {
     "name": "stdout",
     "output_type": "stream",
     "text": [
      "Epoch [14/15], train_loss: 0.0550, train_metric_acc: 0.9340, val_loss: 0.0486, val_metric_acc: 0.9402, lr: 0.0010\n",
      "Epoch - 14, model has been saved with loss on validation set - 0.0550\n",
      "\n"
     ]
    },
    {
     "name": "stderr",
     "output_type": "stream",
     "text": [
      "                                                                                           \r"
     ]
    },
    {
     "name": "stdout",
     "output_type": "stream",
     "text": [
      "Epoch [15/15], train_loss: 0.0531, train_metric_acc: 0.9388, val_loss: 0.0435, val_metric_acc: 0.9662, lr: 0.0010\n",
      "Epoch - 15, model has been saved with loss on validation set - 0.0531\n",
      "\n"
     ]
    }
   ],
   "execution_count": 125
  },
  {
   "metadata": {
    "ExecuteTime": {
     "end_time": "2024-10-13T08:18:58.385881Z",
     "start_time": "2024-10-13T08:18:58.383699Z"
    }
   },
   "cell_type": "code",
   "source": [
    "# INFO Adam = lr=0.001 speed | EPOCHS = 50\n",
    "# INFO Epoch 49/50: train_loss: 0.0392, train_metric_acc: 0.9736, val_loss: 0.0420, val_metric_acc: 0.9675\n",
    "# INFO Epoch 50/50: train_loss: 0.0391, train_metric_acc: 0.9724, val_loss: 0.0505, val_metric_acc: 0.9361\n",
    "\n",
    "# INFO Adam = lr=0.0001 speed | EPOCHS = 10\n",
    "# INFO Epoch 9/10: train_loss: 0.0241, train_metric_acc: 0.9965, val_loss: 0.0352, val_metric_acc: 0.9793\n",
    "# INFO Epoch 10/10: train_loss: 0.0241, train_metric_acc: 0.9967, val_loss: 0.0308, val_metric_acc: 0.9874"
   ],
   "id": "28c7b5852e3ab8ec",
   "outputs": [],
   "execution_count": 131
  },
  {
   "metadata": {
    "ExecuteTime": {
     "end_time": "2024-10-13T08:18:59.054870Z",
     "start_time": "2024-10-13T08:18:59.005068Z"
    }
   },
   "cell_type": "code",
   "source": [
    "plt.plot(lr_list)\n",
    "plt.show()"
   ],
   "id": "9a5868cea360e076",
   "outputs": [
    {
     "data": {
      "text/plain": [
       "<Figure size 640x480 with 1 Axes>"
      ],
      "image/png": "[encoded data removed]"
     },
     "metadata": {},
     "output_type": "display_data"
    }
   ],
   "execution_count": 132
  },
  {
   "metadata": {
    "ExecuteTime": {
     "end_time": "2024-10-13T08:18:59.683268Z",
     "start_time": "2024-10-13T08:18:59.623940Z"
    }
   },
   "cell_type": "code",
   "source": [
    "plt.plot(train_loss)\n",
    "plt.plot(val_loss)\n",
    "plt.legend(['train_loss', 'val_loss'])\n",
    "plt.show()"
   ],
   "id": "a795e7b0ddcdc289",
   "outputs": [
    {
     "data": {
      "text/plain": [
       "<Figure size 640x480 with 1 Axes>"
      ],
      "image/png": "[encoded data removed]"
     },
     "metadata": {},
     "output_type": "display_data"
    }
   ],
   "execution_count": 133
  },
  {
   "metadata": {
    "ExecuteTime": {
     "end_time": "2024-10-13T08:19:00.541941Z",
     "start_time": "2024-10-13T08:19:00.478977Z"
    }
   },
   "cell_type": "code",
   "source": [
    "plt.plot(train_acc)\n",
    "plt.plot(val_acc)\n",
    "plt.legend(['train_acc', 'va9l_acc'])\n",
    "plt.show()"
   ],
   "id": "4be4a5f77016f25b",
   "outputs": [
    {
     "data": {
      "text/plain": [
       "<Figure size 640x480 with 1 Axes>"
      ],
      "image/png": "[encoded data removed]"
     },
     "metadata": {},
     "output_type": "display_data"
    }
   ],
   "execution_count": 134
  },
  {
   "metadata": {
    "ExecuteTime": {
     "end_time": "2024-10-13T09:54:12.552671Z",
     "start_time": "2024-10-13T09:54:12.533469Z"
    }
   },
   "cell_type": "code",
   "source": [
    "str_info = '''\n",
    "class MyModel(nn.Module):\n",
    "    def __init__(self, input_size, output_size):\n",
    "        super().__init__()\n",
    "        self.layer_1 = nn.Linear(input_size, 128)\n",
    "        self.layer_2 = nn.Linear(128, output_size)\n",
    "        self.act = nn.ReLU()\n",
    "    \n",
    "    def forward(self, x):\n",
    "        x = self.layer_1(x)\n",
    "        x = self.act(   x)\n",
    "        out = self.layer_2(x)\n",
    "        \n",
    "        return out\n",
    "        \n",
    "MyModel(input_size=64*64, output_size=2)\n",
    "'''\n",
    "\n",
    "checkpoint = {\n",
    "    'info': str_info,\n",
    "    'state_model': model.state_dict(),\n",
    "    'state_opt': opt.state_dict(),\n",
    "    'state_lr_scheduler': lr_scheduler.state_dict(),\n",
    "    'loss': {\n",
    "        'train_loss': train_loss,\n",
    "        'val_loss': val_loss,\n",
    "        'best_loss': best_loss,\n",
    "    },\n",
    "    'metric': {\n",
    "        'train_acc': train_acc,\n",
    "        'val_acc': val_acc,\n",
    "    },\n",
    "    'lr': lr_list,\n",
    "    'epoch': {\n",
    "        'EPOCHS': EPOCHS,\n",
    "        'save_epoch': best_loss_epoch,\n",
    "    },\n",
    "}\n",
    "\n",
    "torch.save(checkpoint, 'serialized/regression/regression_state_dict_model.pt')"
   ],
   "id": "372cb22433729ca9",
   "outputs": [],
   "execution_count": 145
  },
  {
   "metadata": {
    "ExecuteTime": {
     "end_time": "2024-10-13T09:54:15.518749Z",
     "start_time": "2024-10-13T09:54:15.511956Z"
    }
   },
   "cell_type": "code",
   "source": [
    "load_model_state = torch.load('serialized/regression/regression_state_dict_model.pt')\n",
    "load_model_state['info']"
   ],
   "id": "e1771608da7b351f",
   "outputs": [
    {
     "name": "stderr",
     "output_type": "stream",
     "text": [
      "/var/folders/wz/07ctdm5s7rd0j4q2q_5qys5m0000gn/T/ipykernel_33896/3324214028.py:1: FutureWarning: You are using `torch.load` with `weights_only=False` (the current default value), which uses the default pickle module implicitly. It is possible to construct malicious pickle data which will execute arbitrary code during unpickling (See https://github.com/pytorch/pytorch/blob/main/SECURITY.md#untrusted-models for more details). In a future release, the default value for `weights_only` will be flipped to `True`. This limits the functions that could be executed during unpickling. Arbitrary objects will no longer be allowed to be loaded via this mode unless they are explicitly allowlisted by the user via `torch.serialization.add_safe_globals`. We recommend you start setting `weights_only=True` for any use case where you don't have full control of the loaded file. Please open an issue on GitHub for any issues related to this experimental feature.\n",
      "  load_model_state = torch.load('serialized/regression/regression_state_dict_model.pt')\n"
     ]
    },
    {
     "data": {
      "text/plain": [
       "'\\nclass MyModel(nn.Module):\\n    def __init__(self, input_size, output_size):\\n        super().__init__()\\n        self.layer_1 = nn.Linear(input_size, 128)\\n        self.layer_2 = nn.Linear(128, output_size)\\n        self.act = nn.ReLU()\\n    \\n    def forward(self, x):\\n        x = self.layer_1(x)\\n        x = self.act(x)\\n        out = self.layer_2(x)\\n        \\n        return out\\n        \\nMyModel(input_size=64*64, output_size=2)\\n'"
      ]
     },
     "execution_count": 146,
     "metadata": {},
     "output_type": "execute_result"
    }
   ],
   "execution_count": 146
  },
  {
   "metadata": {
    "ExecuteTime": {
     "end_time": "2024-10-13T09:54:17.112827Z",
     "start_time": "2024-10-13T09:54:17.110139Z"
    }
   },
   "cell_type": "code",
   "source": [
    "# params_model = torch.load(f'serialized/regression/regression_model_state_dict_epoch_{best_loss_epoch+1}.pt')\n",
    "# params_model"
   ],
   "id": "bbdd7f49fa5194f",
   "outputs": [],
   "execution_count": 147
  },
  {
   "metadata": {
    "ExecuteTime": {
     "end_time": "2024-10-13T09:54:19.027889Z",
     "start_time": "2024-10-13T09:54:19.022269Z"
    }
   },
   "cell_type": "code",
   "source": [
    "new_model = MyModel(64*64, 2).to(device)\n",
    "\n",
    "loss_model = nn.MSELoss()\n",
    "new_opt = torch.optim.Adam(new_model.parameters(), lr=0.001)\n",
    "new_scheduler = torch.optim.lr_scheduler.ReduceLROnPlateau(new_opt)"
   ],
   "id": "3da1475af5444068",
   "outputs": [],
   "execution_count": 148
  },
  {
   "metadata": {
    "ExecuteTime": {
     "end_time": "2024-10-13T09:54:19.574263Z",
     "start_time": "2024-10-13T09:54:19.571726Z"
    }
   },
   "cell_type": "code",
   "source": [
    "new_model.load_state_dict(load_model_state['state_model'])\n",
    "new_opt.load_state_dict(load_model_state['state_opt'])\n",
    "new_scheduler.load_state_dict(load_model_state['state_lr_scheduler'])"
   ],
   "id": "32ca81f2c1b3c70c",
   "outputs": [],
   "execution_count": 149
  },
  {
   "metadata": {
    "ExecuteTime": {
     "end_time": "2024-10-13T09:54:21.199165Z",
     "start_time": "2024-10-13T09:54:21.196217Z"
    }
   },
   "cell_type": "code",
   "source": [
    "# new_model.eval()\n",
    "# with torch.no_grad():\n",
    "#     running_val_loss = []\n",
    "#     true_answer_counter = 0\n",
    "#     \n",
    "#     for x, targets in val_loader:\n",
    "#         x = x.reshape(-1, 64*64).to(device)\n",
    "#         targets = targets.to(device)\n",
    "#         \n",
    "#         prediction = new_model(x)\n",
    "#         loss = loss_model(prediction, targets)\n",
    "#         \n",
    "#         running_val_loss.append(loss.item())\n",
    "#         mean_val_loss = sum(running_val_loss)/len(running_val_loss)\n",
    "#         \n",
    "#         true_answer_counter += (torch.round(prediction) == targets).all(dim=1).sum().item()\n",
    "#         \n",
    "#     running_val_acc = true_answer_counter / len(val_set)\n",
    "#     \n",
    "# print(f'val_loss: {mean_val_loss:.4f}, val_metric_acc: {running_val_acc:.4f}')"
   ],
   "id": "f13b89d8427dfc9f",
   "outputs": [],
   "execution_count": 150
  },
  {
   "metadata": {
    "ExecuteTime": {
     "end_time": "2024-10-13T10:01:53.829315Z",
     "start_time": "2024-10-13T09:55:25.824862Z"
    }
   },
   "cell_type": "code",
   "source": [
    "EPOCHS = load_model_state['epoch']['EPOCHS']\n",
    "save_epoch = load_model_state['epoch']['save_epoch']\n",
    "\n",
    "train_loss = load_model_state['loss']['train_loss']\n",
    "train_metric_acc = load_model_state['metric']['train_acc']\n",
    "val_loss = load_model_state['loss']['val_loss']\n",
    "val_metric_acc = load_model_state['metric']['val_acc']\n",
    "lr_list = load_model_state['lr']\n",
    "\n",
    "best_loss = load_model_state['loss']['best_loss']\n",
    "\n",
    "for epoch in range(save_epoch + 1, EPOCHS):\n",
    "\n",
    "    # INFO model training\n",
    "    new_model.train()\n",
    "    train_loop = tqdm(train_loader, leave=False)\n",
    "    \n",
    "    running_train_loss = []\n",
    "    true_answer_counter = 0\n",
    "    for x, targets in train_loop:        \n",
    "        x = x.reshape(-1, 64*64).to(device)\n",
    "        targets = targets.to(device) \n",
    "        \n",
    "        prediction = new_model(x) # forward method\n",
    "        loss = loss_model(prediction, targets) # loss func\n",
    "        \n",
    "        # back prapagetion start\n",
    "        new_opt.zero_grad() # reset previously calculated gradients\n",
    "        loss.backward()\n",
    "        # back prapagetion end\n",
    "        \n",
    "        # optimization step\n",
    "        new_opt.step()\n",
    "        \n",
    "        # INFO training process visualization\n",
    "        running_train_loss.append(loss.item())\n",
    "        mean_train_loss = sum(running_train_loss)/len(running_train_loss)\n",
    "        \n",
    "        true_answer_counter += (torch.round(prediction) == targets).all(dim=1).sum().item()\n",
    "        \n",
    "        train_loop.set_description(f'Epoch [{epoch+1}/{EPOCHS}], train_loss_avg: {mean_train_loss:.4f}')\n",
    "\n",
    "    running_train_acc = true_answer_counter/len(train_set)\n",
    "    \n",
    "    train_loss.append(mean_train_loss)\n",
    "    train_acc.append(running_train_acc)\n",
    "    \n",
    "    # INFO model validation\n",
    "    new_model.eval()\n",
    "    with torch.no_grad():\n",
    "        running_val_loss = []\n",
    "        true_answer_counter = 0\n",
    "        for x, targets in val_loader:\n",
    "            x = x.reshape(-1, 64*64).to(device)\n",
    "            targets = targets.to(device) \n",
    "            \n",
    "            prediction = new_model(x)\n",
    "            loss = loss_model(prediction, targets)\n",
    "            \n",
    "            # INFO training process visualization\n",
    "            running_val_loss.append(loss.item())\n",
    "            mean_val_loss = sum(running_val_loss)/len(running_val_loss)\n",
    "            \n",
    "            true_answer_counter += (torch.round(prediction) == targets).all(dim=1).sum().item()\n",
    "    \n",
    "        running_val_acc = true_answer_counter / len(val_set)\n",
    "        \n",
    "        val_loss.append(mean_val_loss)\n",
    "        val_acc.append(running_val_acc)\n",
    "    \n",
    "    new_scheduler.step(mean_val_loss)\n",
    "    lr = new_scheduler._last_lr[0]\n",
    "    lr_list.append(lr)\n",
    "        \n",
    "    print(f'Epoch [{epoch+1}/{EPOCHS}], train_loss: {mean_train_loss:.4f}, train_metric_acc: {running_train_acc:.4f}, val_loss: {mean_val_loss:.4f}, val_metric_acc: {running_val_acc:.4f}, lr: {lr:.4f}')\n",
    "    \n",
    "    if best_loss is None:\n",
    "        best_loss = mean_train_loss\n",
    "        best_loss_epoch = epoch\n",
    "    if mean_train_loss < best_loss: # better best_loss - mean_val_loss > threshold | mean_val_loss < best_loss - best_loss * threshold\n",
    "        best_loss = mean_train_loss\n",
    "        \n",
    "        checkpoint = {\n",
    "            'info': str_info,\n",
    "            'state_model': new_model.state_dict(),\n",
    "            'state_opt': new_opt.state_dict(),\n",
    "            'state_lr_scheduler': new_scheduler.state_dict(),\n",
    "            'loss': {\n",
    "                'train_loss': train_loss,\n",
    "                'val_loss': val_loss,\n",
    "                'best_loss': best_loss,\n",
    "            },\n",
    "            'metric': {\n",
    "                'train_acc': train_acc,\n",
    "                'val_acc': val_acc,\n",
    "            },\n",
    "            'lr': lr_list,\n",
    "            'epoch': {\n",
    "                'EPOCHS': EPOCHS,\n",
    "                'save_epoch': best_loss_epoch,\n",
    "            },\n",
    "        }\n",
    "        \n",
    "        torch.save(checkpoint, f'serialized/regression/regression_model_state_dict_epoch_{epoch+1}.pt')\n",
    "        \n",
    "        print(f'Epoch - {epoch+1}, model has been saved with loss on validation set - {mean_train_loss:.4f}', end='\\n\\n')"
   ],
   "id": "921e6b72887c6e9",
   "outputs": [
    {
     "name": "stderr",
     "output_type": "stream",
     "text": [
      "                                                                                           \r"
     ]
    },
    {
     "name": "stdout",
     "output_type": "stream",
     "text": [
      "Epoch [16/25], train_loss: 0.0523, train_metric_acc: 0.9407, val_loss: 0.1132, val_metric_acc: 0.7564, lr: 0.0010\n",
      "Epoch - 16, model has been saved with loss on validation set - 0.0523\n",
      "\n"
     ]
    },
    {
     "name": "stderr",
     "output_type": "stream",
     "text": [
      "                                                                                           \r"
     ]
    },
    {
     "name": "stdout",
     "output_type": "stream",
     "text": [
      "Epoch [17/25], train_loss: 0.0503, train_metric_acc: 0.9469, val_loss: 0.0434, val_metric_acc: 0.9630, lr: 0.0010\n",
      "Epoch - 17, model has been saved with loss on validation set - 0.0503\n",
      "\n"
     ]
    },
    {
     "name": "stderr",
     "output_type": "stream",
     "text": [
      "                                                                                           \r"
     ]
    },
    {
     "name": "stdout",
     "output_type": "stream",
     "text": [
      "Epoch [18/25], train_loss: 0.0510, train_metric_acc: 0.9454, val_loss: 0.0480, val_metric_acc: 0.9593, lr: 0.0010\n"
     ]
    },
    {
     "name": "stderr",
     "output_type": "stream",
     "text": [
      "                                                                                           \r"
     ]
    },
    {
     "name": "stdout",
     "output_type": "stream",
     "text": [
      "Epoch [19/25], train_loss: 0.0514, train_metric_acc: 0.9442, val_loss: 0.0424, val_metric_acc: 0.9623, lr: 0.0010\n"
     ]
    },
    {
     "name": "stderr",
     "output_type": "stream",
     "text": [
      "                                                                                           \r"
     ]
    },
    {
     "name": "stdout",
     "output_type": "stream",
     "text": [
      "Epoch [20/25], train_loss: 0.0495, train_metric_acc: 0.9492, val_loss: 0.0407, val_metric_acc: 0.9738, lr: 0.0010\n",
      "Epoch - 20, model has been saved with loss on validation set - 0.0495\n",
      "\n"
     ]
    },
    {
     "name": "stderr",
     "output_type": "stream",
     "text": [
      "                                                                                           \r"
     ]
    },
    {
     "name": "stdout",
     "output_type": "stream",
     "text": [
      "Epoch [21/25], train_loss: 0.0495, train_metric_acc: 0.9481, val_loss: 0.0386, val_metric_acc: 0.9730, lr: 0.0010\n"
     ]
    },
    {
     "name": "stderr",
     "output_type": "stream",
     "text": [
      "                                                                                           \r"
     ]
    },
    {
     "name": "stdout",
     "output_type": "stream",
     "text": [
      "Epoch [22/25], train_loss: 0.0489, train_metric_acc: 0.9493, val_loss: 0.1425, val_metric_acc: 0.6962, lr: 0.0010\n",
      "Epoch - 22, model has been saved with loss on validation set - 0.0489\n",
      "\n"
     ]
    },
    {
     "name": "stderr",
     "output_type": "stream",
     "text": [
      "                                                                                           \r"
     ]
    },
    {
     "name": "stdout",
     "output_type": "stream",
     "text": [
      "Epoch [23/25], train_loss: 0.0484, train_metric_acc: 0.9519, val_loss: 0.0405, val_metric_acc: 0.9704, lr: 0.0010\n",
      "Epoch - 23, model has been saved with loss on validation set - 0.0484\n",
      "\n"
     ]
    },
    {
     "name": "stderr",
     "output_type": "stream",
     "text": [
      "                                                                                           \r"
     ]
    },
    {
     "name": "stdout",
     "output_type": "stream",
     "text": [
      "Epoch [24/25], train_loss: 0.0483, train_metric_acc: 0.9514, val_loss: 0.0464, val_metric_acc: 0.9597, lr: 0.0010\n",
      "Epoch - 24, model has been saved with loss on validation set - 0.0483\n",
      "\n"
     ]
    },
    {
     "name": "stderr",
     "output_type": "stream",
     "text": [
      "                                                                                           \r"
     ]
    },
    {
     "name": "stdout",
     "output_type": "stream",
     "text": [
      "Epoch [25/25], train_loss: 0.0476, train_metric_acc: 0.9539, val_loss: 0.0558, val_metric_acc: 0.9408, lr: 0.0010\n",
      "Epoch - 25, model has been saved with loss on validation set - 0.0476\n",
      "\n"
     ]
    }
   ],
   "execution_count": 154
  },
  {
   "metadata": {},
   "cell_type": "code",
   "outputs": [],
   "execution_count": null,
   "source": "",
   "id": "4ff1e94c645b82b6"
  }
 ],
 "metadata": {
  "kernelspec": {
   "display_name": "Python 3",
   "language": "python",
   "name": "python3"
  },
  "language_info": {
   "codemirror_mode": {
    "name": "ipython",
    "version": 2
   },
   "file_extension": ".py",
   "mimetype": "text/x-python",
   "name": "python",
   "nbconvert_exporter": "python",
   "pygments_lexer": "ipython2",
   "version": "2.7.6"
  }
 },
 "nbformat": 4,
 "nbformat_minor": 5
}
