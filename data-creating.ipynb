{
 "cells": [
  {
   "metadata": {},
   "cell_type": "code",
   "source": "!pip install torch torchvision torchaudio matplotlib numpy tqdm",
   "id": "eb7ac1cb1af4d9b3",
   "outputs": [],
   "execution_count": null
  },
  {
   "metadata": {
    "ExecuteTime": {
     "end_time": "2024-10-14T05:05:43.087871Z",
     "start_time": "2024-10-14T05:05:42.057134Z"
    }
   },
   "cell_type": "code",
   "source": [
    "import torch\n",
    "import torchvision\n",
    "import numpy as np\n",
    "from PIL import Image\n",
    "\n",
    "import os\n",
    "import sys\n",
    "import struct\n",
    "import json\n",
    "from array import array\n",
    "from os import path"
   ],
   "id": "8cc9c6162851e131",
   "outputs": [],
   "execution_count": 2
  },
  {
   "metadata": {
    "ExecuteTime": {
     "end_time": "2024-10-14T05:05:44.410332Z",
     "start_time": "2024-10-14T05:05:44.382855Z"
    }
   },
   "cell_type": "code",
   "source": [
    "train_dataset = torchvision.datasets.MNIST(root='sample_data', train=True, download=True)\n",
    "test_dataset = torchvision.datasets.MNIST(root='sample_data', train=False, download=True)"
   ],
   "id": "159cbd9b0d9eea17",
   "outputs": [],
   "execution_count": 3
  },
  {
   "metadata": {},
   "cell_type": "code",
   "source": [
    "def read(dataset):\n",
    "    if dataset == 'training':\n",
    "        \n",
    "        path_img = './sample_data/MNIST/raw/train-images-idx3-ubyte'\n",
    "        path_lbl = './sample_data/MNIST/raw/train-labels-idx1-ubyte'\n",
    "        \n",
    "    elif dataset == 'testing':\n",
    "        \n",
    "        path_img = './sample_data/MNIST/raw/t10k-images-idx3-ubyte'\n",
    "        path_lbl = './sample_data/MNIST/raw/t10k-labels-idx1-ubyte'\n",
    "    else: \n",
    "        raise ValueError('dataset must be either training or testing')\n",
    "        \n",
    "    with open(path_lbl, 'rb') as f_lable:\n",
    "        _, size = struct.unpack('>II', f_lable.read(8))\n",
    "        lbl = array('b', f_lable.read())\n",
    "    \n",
    "    with open(path_img, 'rb') as f_img:\n",
    "        _, size, rows, cols = struct.unpack('>IIII', f_img.read(16))\n",
    "        img = array('B', f_img.read())\n",
    "        \n",
    "    return lbl, img, size, rows, cols\n",
    "\n",
    "def write_dataset(labels, data, size, rows, cols, output_dir):\n",
    "    classes = {i: f'class_{i}' for i in range(10)}\n",
    "    \n",
    "    output_dirs = [\n",
    "        path.join(output_dir, classes[i]) for i in range(10)\n",
    "    ]\n",
    "    \n",
    "    for dir in output_dirs:\n",
    "        if not path.exists(dir):\n",
    "            os.makedirs(dir)\n",
    "            \n",
    "    for i, label in enumerate(labels):\n",
    "        output_filename = path.join(output_dirs[label], str(i) + '.jpg')\n",
    "        print(f'writing {output_filename}')\n",
    "        \n",
    "        with open(output_filename, 'wb') as f_out:\n",
    "            data_i = [\n",
    "                data[(i*rows*cols + j*cols) : (i*rows*cols + (j+1)*cols)] for j in range(rows)\n",
    "            ]\n",
    "            data_array = np.asarray(data_i)\n",
    "            \n",
    "            im = Image.fromarray(data_array)\n",
    "            im.save(output_filename)\n",
    "\n",
    "output_path = './mnist'\n",
    "\n",
    "for dataset in ['training', 'testing']:\n",
    "    write_dataset(*read(dataset), path.join(output_path, dataset))"
   ],
   "id": "8ff1c0a3667637b8",
   "outputs": [],
   "execution_count": null
  },
  {
   "metadata": {
    "ExecuteTime": {
     "end_time": "2024-09-25T01:53:03.396857Z",
     "start_time": "2024-09-25T01:52:44.127809Z"
    }
   },
   "cell_type": "code",
   "source": [
    "if not os.path.exists('./dataset'):\n",
    "    os.mkdir('./dataset')\n",
    "\n",
    "img = np.random.randint(0, 50, [100000, 64, 64], dtype=np.uint8)\n",
    "square = np.random.randint(100, 200, [100000, 15, 15], dtype=np.uint8)\n",
    "\n",
    "coords = np.empty([100000, 2])\n",
    "\n",
    "data = {}\n",
    "\n",
    "for i in range(img.shape[0]):\n",
    "    x = np.random.randint(20, 44)\n",
    "    y = np.random.randint(20, 44)\n",
    "    \n",
    "    img[i, (y - 7):(y + 8), (x - 7):(x + 8)] = square[i]\n",
    "    \n",
    "    coords[i] = [y, x]\n",
    "    \n",
    "    name_img = f'img_{i}.jpeg'\n",
    "    path_img = os.path.join('./dataset', name_img)\n",
    "    \n",
    "    image = Image.fromarray(img[i])\n",
    "    image.save(path_img)\n",
    "    \n",
    "    data[name_img] = [y, x]\n",
    "    \n",
    "with open('./dataset/coords.json', 'w') as f_out:\n",
    "    json.dump(data, f_out, indent=2)"
   ],
   "id": "e228e565f1064c1d",
   "outputs": [],
   "execution_count": 26
  }
 ],
 "metadata": {
  "kernelspec": {
   "display_name": "Python 3 (ipykernel)",
   "language": "python",
   "name": "python3"
  },
  "language_info": {
   "codemirror_mode": {
    "name": "ipython",
    "version": 3
   },
   "file_extension": ".py",
   "mimetype": "text/x-python",
   "name": "python",
   "nbconvert_exporter": "python",
   "pygments_lexer": "ipython3",
   "version": "3.12.4"
  }
 },
 "nbformat": 4,
 "nbformat_minor": 5
}
