{
 "cells": [
  {
   "cell_type": "code",
   "id": "cf4f1a61-e8a5-43b2-9247-077b49d21842",
   "metadata": {},
   "source": "!pip install torch torchvision torchaudio matplotlib numpy tqdm",
   "outputs": [],
   "execution_count": null
  },
  {
   "cell_type": "code",
   "id": "02d4bd4d-40c1-4749-a2f7-fcfba258671c",
   "metadata": {
    "ExecuteTime": {
     "end_time": "2024-10-04T10:29:33.213524Z",
     "start_time": "2024-10-04T10:29:31.509320Z"
    }
   },
   "source": [
    "import torch\n",
    "import torchvision\n",
    "\n",
    "from torchvision.datasets import ImageFolder\n",
    "from torch.utils.data import Dataset, DataLoader, random_split\n",
    "from torchvision import transforms\n",
    "from torchvision.transforms import v2\n",
    "\n",
    "import os\n",
    "import json\n",
    "import numpy as np\n",
    "import matplotlib.pyplot as plt\n",
    "\n",
    "from PIL import Image"
   ],
   "outputs": [],
   "execution_count": 2
  },
  {
   "metadata": {},
   "cell_type": "code",
   "source": [
    "for path_dir, dir_list, file_list in os.walk('./mnist/training'): # os.walk is GENERATOR func\n",
    "            print(f'[os => walk]: {path_dir} | {len(dir_list)} | {len(file_list)}')"
   ],
   "id": "532518e63e523757",
   "outputs": [],
   "execution_count": null
  },
  {
   "metadata": {},
   "cell_type": "code",
   "source": "os.listdir('./dataset')",
   "id": "2a994ca33de5fb2",
   "outputs": [],
   "execution_count": null
  },
  {
   "metadata": {
    "ExecuteTime": {
     "end_time": "2024-10-04T10:29:35.363005Z",
     "start_time": "2024-10-04T10:29:35.359311Z"
    }
   },
   "cell_type": "code",
   "source": [
    "class DatasetReg (Dataset):\n",
    "    def __init__(self, path, transform=None):\n",
    "        self.path = path\n",
    "        self.transform = transform\n",
    "        \n",
    "        self.list_name_file = os.listdir(path)\n",
    "        if 'coords.json' in self.list_name_file:\n",
    "            self.list_name_file.remove('coords.json')\n",
    "        \n",
    "        self.len_dataset = len(self.list_name_file)\n",
    "        \n",
    "        with open(os.path.join(self.path, 'coords.json'), 'r') as f:\n",
    "            self.dict_coords = json.load(f)\n",
    "\n",
    "    def __getitem__(self, index):\n",
    "        name_file = self.list_name_file[index]\n",
    "        path_img = os.path.join(self.path, name_file)\n",
    "        \n",
    "        img = Image.open(path_img)\n",
    "        coord = torch.tensor(self.dict_coords[name_file], dtype=torch.float32)\n",
    "        \n",
    "        if self.transform is not None:\n",
    "            img = self.transform(img)\n",
    "        \n",
    "        return img, coord\n",
    "\n",
    "    def __len__(self):\n",
    "        return self.len_dataset"
   ],
   "id": "c67bd6cc33a4e9a3",
   "outputs": [],
   "execution_count": 3
  },
  {
   "metadata": {
    "ExecuteTime": {
     "end_time": "2024-10-04T10:29:37.015698Z",
     "start_time": "2024-10-04T10:29:36.754404Z"
    }
   },
   "cell_type": "code",
   "source": [
    "transform = v2.Compose([\n",
    "    v2.ToImage(),\n",
    "    v2.ToDtype(torch.float32, scale=True),\n",
    "    v2.Normalize(mean=(0.5, ), std=(0.5, ))\n",
    "])\n",
    "\n",
    "dataset_without_transform = DatasetReg('./dataset') # only for vizual test\n",
    "dataset = DatasetReg('./dataset', transform=transform)"
   ],
   "id": "6209a90e2d9d7b26",
   "outputs": [],
   "execution_count": 4
  },
  {
   "metadata": {
    "ExecuteTime": {
     "end_time": "2024-10-04T10:29:39.391636Z",
     "start_time": "2024-10-04T10:29:39.383079Z"
    }
   },
   "cell_type": "code",
   "source": [
    "len(dataset)\n",
    "\n",
    "img, coord = dataset[2]\n",
    "\n",
    "\n",
    "\n",
    "\n",
    "print(f'''\n",
    "        img: \n",
    "            {type(img)}\n",
    "            {img.shape}\n",
    "            {img.dtype}\n",
    "            min = {img.min()}, max = {img.max()}\n",
    "         \n",
    "        coord:\n",
    "            {type(coord)}\n",
    "            {coord.shape}\n",
    "            {coord.dtype}\n",
    "''')"
   ],
   "id": "879f1fa036487c96",
   "outputs": [
    {
     "name": "stdout",
     "output_type": "stream",
     "text": [
      "\n",
      "        img: \n",
      "            <class 'torchvision.tv_tensors._image.Image'>\n",
      "            torch.Size([1, 64, 64])\n",
      "            torch.float32\n",
      "            min = -1.0, max = 0.5843138694763184\n",
      "         \n",
      "        coord:\n",
      "            <class 'torch.Tensor'>\n",
      "            torch.Size([2])\n",
      "            torch.float32\n",
      "\n"
     ]
    }
   ],
   "execution_count": 5
  },
  {
   "metadata": {
    "ExecuteTime": {
     "end_time": "2024-10-04T10:29:42.476673Z",
     "start_time": "2024-10-04T10:29:42.410718Z"
    }
   },
   "cell_type": "code",
   "source": [
    "img, coord = dataset_without_transform[6020]\n",
    "print(f'Coord: {coord}')\n",
    "\n",
    "plt.scatter(coord[1], coord[0], c='#FF0800', marker='o')\n",
    "plt.imshow(img, cmap='gray')\n",
    "plt.show()"
   ],
   "id": "dbeddcfffe3898d4",
   "outputs": [
    {
     "name": "stdout",
     "output_type": "stream",
     "text": [
      "Coord: tensor([28., 24.])\n"
     ]
    },
    {
     "data": {
      "text/plain": [
       "<Figure size 640x480 with 1 Axes>"
      ],
      "image/png": "[encoded data removed]"
     },
     "metadata": {},
     "output_type": "display_data"
    }
   ],
   "execution_count": 6
  },
  {
   "metadata": {
    "ExecuteTime": {
     "end_time": "2024-09-27T13:20:44.102178Z",
     "start_time": "2024-09-27T13:20:44.095932Z"
    }
   },
   "cell_type": "code",
   "source": "train_set, val_set, test_set = random_split(dataset, [0.7, 0.1, 0.2])",
   "id": "26f92e86187f5ba2",
   "outputs": [],
   "execution_count": 22
  },
  {
   "metadata": {
    "ExecuteTime": {
     "end_time": "2024-09-27T13:20:44.128556Z",
     "start_time": "2024-09-27T13:20:44.125167Z"
    }
   },
   "cell_type": "code",
   "source": [
    "print(f'Train data set size: {len(train_set)}')\n",
    "print(f'Val data set size: {len(val_set)}')\n",
    "print(f'Test data set size: {len(test_set)}')"
   ],
   "id": "6f639edd0397db67",
   "outputs": [
    {
     "name": "stdout",
     "output_type": "stream",
     "text": [
      "Train data set size: 70000\n",
      "Val data set size: 10000\n",
      "Test data set size: 20000\n"
     ]
    }
   ],
   "execution_count": 23
  },
  {
   "metadata": {
    "ExecuteTime": {
     "end_time": "2024-09-27T13:20:44.161380Z",
     "start_time": "2024-09-27T13:20:44.148080Z"
    }
   },
   "cell_type": "code",
   "source": [
    "train_loader = DataLoader(train_set, batch_size=64, shuffle=True)\n",
    "val_loader = DataLoader(val_set, batch_size=64, shuffle=False)\n",
    "test_loader = DataLoader(test_set, batch_size=64, shuffle=False)"
   ],
   "id": "e2362654663f6791",
   "outputs": [],
   "execution_count": 24
  },
  {
   "metadata": {
    "ExecuteTime": {
     "end_time": "2024-09-27T13:21:05.191614Z",
     "start_time": "2024-09-27T13:20:44.165898Z"
    }
   },
   "cell_type": "code",
   "source": [
    "for i, (samples, target) in enumerate(train_loader):\n",
    "    if i < 3:\n",
    "        print(f'Batch number: {i + 1}')\n",
    "        print(f'Samples shape: {samples.shape}')\n",
    "        print(f'Target shape: {target.shape}')\n",
    "\n",
    "print(f'\\033[32m  .........................  \\033[0m')\n",
    "\n",
    "print(f'Batch number: {i + 1}')\n",
    "print(f'Samples shape: {samples.shape}')\n",
    "print(f'Target shape: {target.shape}')"
   ],
   "id": "334a43987ac53527",
   "outputs": [
    {
     "name": "stdout",
     "output_type": "stream",
     "text": [
      "Batch number: 1\n",
      "Samples shape: torch.Size([64, 1, 64, 64])\n",
      "Target shape: torch.Size([64, 2])\n",
      "Batch number: 2\n",
      "Samples shape: torch.Size([64, 1, 64, 64])\n",
      "Target shape: torch.Size([64, 2])\n",
      "Batch number: 3\n",
      "Samples shape: torch.Size([64, 1, 64, 64])\n",
      "Target shape: torch.Size([64, 2])\n",
      "\u001B[32m  .........................  \u001B[0m\n",
      "Batch number: 1094\n",
      "Samples shape: torch.Size([48, 1, 64, 64])\n",
      "Target shape: torch.Size([48, 2])\n"
     ]
    }
   ],
   "execution_count": 25
  },
  {
   "metadata": {
    "ExecuteTime": {
     "end_time": "2024-09-27T13:21:05.200820Z",
     "start_time": "2024-09-27T13:21:05.199469Z"
    }
   },
   "cell_type": "code",
   "source": "",
   "id": "8d541f43571cf67b",
   "outputs": [],
   "execution_count": null
  }
 ],
 "metadata": {
  "kernelspec": {
   "display_name": "Python 3 (ipykernel)",
   "language": "python",
   "name": "python3"
  },
  "language_info": {
   "codemirror_mode": {
    "name": "ipython",
    "version": 3
   },
   "file_extension": ".py",
   "mimetype": "text/x-python",
   "name": "python",
   "nbconvert_exporter": "python",
   "pygments_lexer": "ipython3",
   "version": "3.12.4"
  }
 },
 "nbformat": 4,
 "nbformat_minor": 5
}
