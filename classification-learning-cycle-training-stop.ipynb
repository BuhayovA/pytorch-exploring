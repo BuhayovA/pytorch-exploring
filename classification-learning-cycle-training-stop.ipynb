{
 "cells": [
  {
   "metadata": {
    "ExecuteTime": {
     "end_time": "2024-10-14T05:09:23.460227Z",
     "start_time": "2024-10-14T05:09:22.682694Z"
    }
   },
   "cell_type": "code",
   "source": "!pip install torch torchvision torchaudio matplotlib numpy tqdm",
   "id": "784d61311e18434e",
   "outputs": [
    {
     "name": "stdout",
     "output_type": "stream",
     "text": [
      "Requirement already satisfied: torch in ./venv/lib/python3.12/site-packages (2.4.1)\r\n",
      "Requirement already satisfied: torchvision in ./venv/lib/python3.12/site-packages (0.19.1)\r\n",
      "Requirement already satisfied: torchaudio in ./venv/lib/python3.12/site-packages (2.4.1)\r\n",
      "Requirement already satisfied: matplotlib in ./venv/lib/python3.12/site-packages (3.9.2)\r\n",
      "Requirement already satisfied: numpy in ./venv/lib/python3.12/site-packages (2.1.1)\r\n",
      "Requirement already satisfied: tqdm in ./venv/lib/python3.12/site-packages (4.66.5)\r\n",
      "Requirement already satisfied: filelock in ./venv/lib/python3.12/site-packages (from torch) (3.16.1)\r\n",
      "Requirement already satisfied: typing-extensions>=4.8.0 in ./venv/lib/python3.12/site-packages (from torch) (4.12.2)\r\n",
      "Requirement already satisfied: sympy in ./venv/lib/python3.12/site-packages (from torch) (1.13.3)\r\n",
      "Requirement already satisfied: networkx in ./venv/lib/python3.12/site-packages (from torch) (3.3)\r\n",
      "Requirement already satisfied: jinja2 in ./venv/lib/python3.12/site-packages (from torch) (3.1.4)\r\n",
      "Requirement already satisfied: fsspec in ./venv/lib/python3.12/site-packages (from torch) (2024.9.0)\r\n",
      "Requirement already satisfied: setuptools in ./venv/lib/python3.12/site-packages (from torch) (75.1.0)\r\n",
      "Requirement already satisfied: pillow!=8.3.*,>=5.3.0 in ./venv/lib/python3.12/site-packages (from torchvision) (10.4.0)\r\n",
      "Requirement already satisfied: contourpy>=1.0.1 in ./venv/lib/python3.12/site-packages (from matplotlib) (1.3.0)\r\n",
      "Requirement already satisfied: cycler>=0.10 in ./venv/lib/python3.12/site-packages (from matplotlib) (0.12.1)\r\n",
      "Requirement already satisfied: fonttools>=4.22.0 in ./venv/lib/python3.12/site-packages (from matplotlib) (4.54.1)\r\n",
      "Requirement already satisfied: kiwisolver>=1.3.1 in ./venv/lib/python3.12/site-packages (from matplotlib) (1.4.7)\r\n",
      "Requirement already satisfied: packaging>=20.0 in ./venv/lib/python3.12/site-packages (from matplotlib) (24.1)\r\n",
      "Requirement already satisfied: pyparsing>=2.3.1 in ./venv/lib/python3.12/site-packages (from matplotlib) (3.1.4)\r\n",
      "Requirement already satisfied: python-dateutil>=2.7 in ./venv/lib/python3.12/site-packages (from matplotlib) (2.9.0.post0)\r\n",
      "Requirement already satisfied: six>=1.5 in ./venv/lib/python3.12/site-packages (from python-dateutil>=2.7->matplotlib) (1.16.0)\r\n",
      "Requirement already satisfied: MarkupSafe>=2.0 in ./venv/lib/python3.12/site-packages (from jinja2->torch) (2.1.5)\r\n",
      "Requirement already satisfied: mpmath<1.4,>=1.1.0 in ./venv/lib/python3.12/site-packages (from sympy->torch) (1.3.0)\r\n"
     ]
    }
   ],
   "execution_count": 1
  },
  {
   "cell_type": "code",
   "id": "initial_id",
   "metadata": {
    "collapsed": true,
    "ExecuteTime": {
     "end_time": "2024-10-14T05:09:25.100949Z",
     "start_time": "2024-10-14T05:09:23.468254Z"
    }
   },
   "source": [
    "# base\n",
    "import os\n",
    "import json\n",
    "import numpy as np\n",
    "import matplotlib.pyplot as plt\n",
    "from PIL import Image\n",
    "\n",
    "import torch\n",
    "import torch.nn as nn\n",
    "import torchvision\n",
    "from tqdm import tqdm\n",
    "\n",
    "# helpers\n",
    "from torchvision.datasets import ImageFolder\n",
    "from torch.utils.data import Dataset, DataLoader, random_split\n",
    "from torchvision import transforms\n",
    "from torchvision.transforms import v2"
   ],
   "outputs": [],
   "execution_count": 2
  },
  {
   "metadata": {
    "ExecuteTime": {
     "end_time": "2024-10-14T05:09:25.176464Z",
     "start_time": "2024-10-14T05:09:25.174598Z"
    }
   },
   "cell_type": "code",
   "source": "plt.style.use('dark_background')",
   "id": "65fc9ca257d0252e",
   "outputs": [],
   "execution_count": 3
  },
  {
   "metadata": {
    "ExecuteTime": {
     "end_time": "2024-10-14T05:09:25.186077Z",
     "start_time": "2024-10-14T05:09:25.183814Z"
    }
   },
   "cell_type": "code",
   "source": [
    "device = 'cuda' if torch.cuda.is_available() else 'cpu'\n",
    "print(f'Device: {device}')"
   ],
   "id": "1ff8f6ccec645ff3",
   "outputs": [
    {
     "name": "stdout",
     "output_type": "stream",
     "text": [
      "Device: cpu\n"
     ]
    }
   ],
   "execution_count": 4
  },
  {
   "metadata": {
    "ExecuteTime": {
     "end_time": "2024-10-14T05:09:25.205915Z",
     "start_time": "2024-10-14T05:09:25.202722Z"
    }
   },
   "cell_type": "code",
   "source": [
    "class MNISTDataset(Dataset):\n",
    "    def __init__(self, path, transform=None):\n",
    "        self.path = path\n",
    "        self.transform = transform\n",
    "        \n",
    "        self.len_dataset = 0\n",
    "        self.data_list = []\n",
    "        \n",
    "        for path_dir, dir_list, file_list in os.walk(path): # os.walk is GENERATOR func\n",
    "            # print(f'[WALK]: {path_dir} | {dir_list} | {len(file_list)}')\n",
    "            \n",
    "            if path_dir == path:\n",
    "                self.classes = sorted(os.listdir(path_dir))\n",
    "                self.class_to_index = { cls_name: i for i, cls_name in enumerate(self.classes) }\n",
    "                continue\n",
    "            \n",
    "            cls = path_dir.split(os.sep)[-1]\n",
    "\n",
    "            for file_name in file_list:\n",
    "                file_path = os.path.join(path_dir, file_name)\n",
    "                self.data_list.append((file_path, self.class_to_index[cls]))\n",
    "                \n",
    "            self.len_dataset += len(file_list)\n",
    "\n",
    "    def __len__(self):\n",
    "        return self.len_dataset\n",
    "    \n",
    "    def __getitem__(self, index):\n",
    "        file_path, target = self.data_list[index]\n",
    "        sample = Image.open(file_path)\n",
    "        \n",
    "        # print(f'[PIL => Sample]: {sample}')\n",
    "        \n",
    "        if self.transform is not None:\n",
    "            sample = self.transform(sample)\n",
    "            \n",
    "        return sample, target"
   ],
   "id": "b099ff99643635b",
   "outputs": [],
   "execution_count": 5
  },
  {
   "metadata": {
    "ExecuteTime": {
     "end_time": "2024-10-14T05:09:25.258073Z",
     "start_time": "2024-10-14T05:09:25.255850Z"
    }
   },
   "cell_type": "code",
   "source": [
    "transform = v2.Compose([\n",
    "    v2.ToImage(),\n",
    "    v2.ToDtype(torch.float32, scale=True),\n",
    "    v2.Normalize(mean=(0.5, ), std=(0.5, ))\n",
    "])"
   ],
   "id": "ae3c489e23d758ee",
   "outputs": [],
   "execution_count": 6
  },
  {
   "metadata": {
    "ExecuteTime": {
     "end_time": "2024-10-14T05:09:25.355229Z",
     "start_time": "2024-10-14T05:09:25.276957Z"
    }
   },
   "cell_type": "code",
   "source": [
    "train_dataset = MNISTDataset(path='./mnist/training', transform=transform)\n",
    "test_dataset = MNISTDataset(path='./mnist/testing', transform=transform)"
   ],
   "id": "6641f68016b4bb26",
   "outputs": [],
   "execution_count": 7
  },
  {
   "metadata": {
    "ExecuteTime": {
     "end_time": "2024-10-14T05:09:25.366855Z",
     "start_time": "2024-10-14T05:09:25.363304Z"
    }
   },
   "cell_type": "code",
   "source": [
    "train_dataset_split, val_dataset = random_split(train_dataset, [0.7, 0.3])\n",
    "print(f'[Train]: {len(train_dataset_split)}')\n",
    "print(f'[Validation]: { len(val_dataset)}')\n",
    "print(f'[Test]: {len(test_dataset)}')"
   ],
   "id": "342f900fe71b4518",
   "outputs": [
    {
     "name": "stdout",
     "output_type": "stream",
     "text": [
      "[Train]: 42000\n",
      "[Validation]: 18000\n",
      "[Test]: 10000\n"
     ]
    }
   ],
   "execution_count": 8
  },
  {
   "metadata": {
    "ExecuteTime": {
     "end_time": "2024-10-14T05:09:25.388858Z",
     "start_time": "2024-10-14T05:09:25.386559Z"
    }
   },
   "cell_type": "code",
   "source": [
    "train_loader = DataLoader(train_dataset_split, batch_size=64, shuffle=True)\n",
    "val_loader = DataLoader(val_dataset, batch_size=64, shuffle=False)\n",
    "test_loader = DataLoader(test_dataset, batch_size=64, shuffle=False)"
   ],
   "id": "aba6e63669bf2c3e",
   "outputs": [],
   "execution_count": 9
  },
  {
   "metadata": {
    "ExecuteTime": {
     "end_time": "2024-10-14T05:09:25.402067Z",
     "start_time": "2024-10-14T05:09:25.398654Z"
    }
   },
   "cell_type": "code",
   "source": [
    "class MyModel(nn.Module):\n",
    "    def __init__(self, input_size, output_size):\n",
    "        super().__init__()\n",
    "        self.layer_1 = nn.Linear(input_size, 128)\n",
    "        self.layer_2 = nn.Linear(128, output_size)\n",
    "        self.act = nn.ReLU()\n",
    "    \n",
    "    def forward(self, x):\n",
    "        x = self.layer_1(x)\n",
    "        x = self.act(x)\n",
    "        out = self.layer_2(x)\n",
    "        \n",
    "        return out\n",
    "\n",
    "model = MyModel(input_size=784, output_size=10).to(device)"
   ],
   "id": "462fa0115441ecfb",
   "outputs": [],
   "execution_count": 10
  },
  {
   "metadata": {
    "ExecuteTime": {
     "end_time": "2024-10-14T05:09:25.447015Z",
     "start_time": "2024-10-14T05:09:25.445283Z"
    }
   },
   "cell_type": "code",
   "source": [
    "# input = torch.rand([16, 784], dtype=torch.float32).to(device)\n",
    "# \n",
    "# out = model(input)\n",
    "# out.shape"
   ],
   "id": "7f23cdf450df49c2",
   "outputs": [],
   "execution_count": 11
  },
  {
   "metadata": {
    "ExecuteTime": {
     "end_time": "2024-10-14T05:09:25.788701Z",
     "start_time": "2024-10-14T05:09:25.786431Z"
    }
   },
   "cell_type": "code",
   "source": [
    "loss_model = nn.CrossEntropyLoss()\n",
    "opt = torch.optim.Adam(model.parameters(), lr=0.001)\n",
    "lr_scheduler = torch.optim.lr_scheduler.ReduceLROnPlateau(opt, patience=5)"
   ],
   "id": "9cde8d345fbda9c3",
   "outputs": [],
   "execution_count": 12
  },
  {
   "metadata": {
    "ExecuteTime": {
     "end_time": "2024-10-14T05:09:26.830632Z",
     "start_time": "2024-10-14T05:09:26.828627Z"
    }
   },
   "cell_type": "code",
   "source": [
    "EPOCHS = 50\n",
    "count = 0\n",
    "best_loss = None\n",
    "\n",
    "train_loss = []\n",
    "train_acc = []\n",
    "val_loss = []\n",
    "val_acc = []\n",
    "lr_list = []"
   ],
   "id": "509a9929b1a08e6b",
   "outputs": [],
   "execution_count": 13
  },
  {
   "metadata": {
    "ExecuteTime": {
     "end_time": "2024-10-14T05:21:17.916721Z",
     "start_time": "2024-10-14T05:09:33.652495Z"
    }
   },
   "cell_type": "code",
   "source": [
    "for epoch in range(EPOCHS):\n",
    "\n",
    "    # INFO model training\n",
    "    model.train()\n",
    "    \n",
    "    running_train_loss = []\n",
    "    true_answer_counter = 0\n",
    "    \n",
    "    train_loop = tqdm(train_loader, leave=False)\n",
    "    for x, targets in train_loop:\n",
    "        # print(f'Number of correct answers: {true_answer_counter}')\n",
    "        \n",
    "        # (batch_size, 1, 28, 28) -> (batch_size, 784) |784|size by 1 axis -> input AI\n",
    "        x = x.reshape(-1, 28*28).to(device)\n",
    "        \n",
    "        # (batch_size, int) -> (batch_size, 10), dtype=float32\n",
    "        targets = targets.reshape(-1).to(torch.int32)\n",
    "        targets = torch.eye(10)[targets].to(device)\n",
    "        \n",
    "        prediction = model(x) # forward method\n",
    "        loss = loss_model(prediction, targets) # loss func\n",
    "        \n",
    "        # back prapagetion start\n",
    "        opt.zero_grad() # reset previously calculated gradients\n",
    "        loss.backward()\n",
    "        # back prapagetion end\n",
    "        \n",
    "        # optimization step\n",
    "        opt.step()\n",
    "        \n",
    "        # INFO training process visualization\n",
    "        running_train_loss.append(loss.item())\n",
    "        mean_train_loss = sum(running_train_loss)/len(running_train_loss)\n",
    "        \n",
    "        true_answer_counter += (prediction.argmax(dim=1) == targets.argmax(dim=1)).sum().item()\n",
    "        \n",
    "        train_loop.set_description(f'Epoch [{epoch+1}/{EPOCHS}], train_loss_avg: {mean_train_loss:.4f}')\n",
    "\n",
    "    running_train_acc = true_answer_counter/len(train_dataset_split)\n",
    "    \n",
    "    train_loss.append(mean_train_loss)\n",
    "    train_acc.append(running_train_acc)\n",
    "    \n",
    "    # INFO model validation\n",
    "    model.eval()\n",
    "    with torch.no_grad():\n",
    "        running_val_loss = []\n",
    "        true_answer_counter = 0\n",
    "        for x, targets in val_loader:\n",
    "            # (batch_size, 1, 28, 28) -> (batch_size, 784) |784|size by 1 axis -> input AI\n",
    "            x = x.reshape(-1, 28*28).to(device)\n",
    "            \n",
    "            # (batch_size, int) -> (batch_size, 10), dtype=float32\n",
    "            targets = targets.reshape(-1).to(torch.int32)\n",
    "            targets = torch.eye(10)[targets].to(device)\n",
    "            \n",
    "            prediction = model(x)\n",
    "            loss = loss_model(prediction, targets)\n",
    "            \n",
    "            # INFO training process visualization\n",
    "            running_val_loss.append(loss.item())\n",
    "            mean_val_loss = sum(running_val_loss)/len(running_val_loss)\n",
    "            \n",
    "            true_answer_counter += (prediction.argmax(dim=1) == targets.argmax(dim=1)).sum().item()\n",
    "    \n",
    "        running_val_acc = true_answer_counter / len(val_dataset)\n",
    "        \n",
    "        val_loss.append(mean_val_loss)\n",
    "        val_acc.append(running_val_acc)\n",
    "        \n",
    "        lr_scheduler.step(mean_val_loss)\n",
    "        lr = lr_scheduler._last_lr[0]\n",
    "        lr_list.append(lr)\n",
    "            \n",
    "        print(f'Epoch [{epoch+1}/{EPOCHS}], train_loss: {mean_train_loss:.4f}, train_metric_acc: {running_train_acc:.4f}, val_loss: {mean_val_loss:.4f}, val_metric_acc: {running_val_acc:.4f}, lr: {lr:.4f}')\n",
    "        \n",
    "        if best_loss is None:\n",
    "            best_loss = mean_train_loss\n",
    "\n",
    "        if mean_train_loss < best_loss: # better best_loss - mean_val_loss > threshold | mean_val_loss < best_loss - best_loss * threshold\n",
    "            best_loss = mean_train_loss\n",
    "            count = 0\n",
    "            \n",
    "            checkpoint = {\n",
    "                'class_to_index': train_dataset.class_to_index,\n",
    "                'state_model': model.state_dict(),\n",
    "                'state_opt': opt.state_dict(),\n",
    "                'state_lr_scheduler': lr_scheduler.state_dict(),\n",
    "                'loss': {\n",
    "                    'train_loss': train_loss,\n",
    "                    'val_loss': val_loss,\n",
    "                    'best_loss': best_loss,\n",
    "                },\n",
    "                'metric': {\n",
    "                    'train_acc': train_acc,\n",
    "                    'val_acc': val_acc,\n",
    "                },\n",
    "                'lr': lr_list,\n",
    "                'epoch': {\n",
    "                    'EPOCHS': EPOCHS,\n",
    "                    'save_epoch': epoch,\n",
    "                },\n",
    "            }\n",
    "            \n",
    "            torch.save(checkpoint, f'serialized/classification/classification_model_state_dict_epoch_{epoch+1}.pt')\n",
    "            print(f'Epoch - {epoch+1}, model has been saved with loss on validation set - {mean_train_loss:.4f}', end='\\n\\n')\n",
    "        \n",
    "        if count >= 10:\n",
    "            print(f'\\033[31m Training stopped at epoch {epoch+1} \\033[0m')\n",
    "            break\n",
    "\n",
    "        count += 1\n",
    "            "
   ],
   "id": "10f4deedeabb6895",
   "outputs": [
    {
     "name": "stderr",
     "output_type": "stream",
     "text": [
      "                                                                                       \r"
     ]
    },
    {
     "name": "stdout",
     "output_type": "stream",
     "text": [
      "Epoch [1/50], train_loss: 0.4302, train_metric_acc: 0.8738, val_loss: 0.2849, val_metric_acc: 0.9180, lr: 0.0010\n"
     ]
    },
    {
     "name": "stderr",
     "output_type": "stream",
     "text": [
      "                                                                                       \r"
     ]
    },
    {
     "name": "stdout",
     "output_type": "stream",
     "text": [
      "Epoch [2/50], train_loss: 0.2405, train_metric_acc: 0.9291, val_loss: 0.2202, val_metric_acc: 0.9344, lr: 0.0010\n",
      "Epoch - 2, model has been saved with loss on validation set - 0.2405\n",
      "\n"
     ]
    },
    {
     "name": "stderr",
     "output_type": "stream",
     "text": [
      "                                                                                       \r"
     ]
    },
    {
     "name": "stdout",
     "output_type": "stream",
     "text": [
      "Epoch [3/50], train_loss: 0.1735, train_metric_acc: 0.9494, val_loss: 0.1778, val_metric_acc: 0.9486, lr: 0.0010\n",
      "Epoch - 3, model has been saved with loss on validation set - 0.1735\n",
      "\n"
     ]
    },
    {
     "name": "stderr",
     "output_type": "stream",
     "text": [
      "                                                                                       \r"
     ]
    },
    {
     "name": "stdout",
     "output_type": "stream",
     "text": [
      "Epoch [4/50], train_loss: 0.1376, train_metric_acc: 0.9595, val_loss: 0.1591, val_metric_acc: 0.9536, lr: 0.0010\n",
      "Epoch - 4, model has been saved with loss on validation set - 0.1376\n",
      "\n"
     ]
    },
    {
     "name": "stderr",
     "output_type": "stream",
     "text": [
      "                                                                                       \r"
     ]
    },
    {
     "name": "stdout",
     "output_type": "stream",
     "text": [
      "Epoch [5/50], train_loss: 0.1153, train_metric_acc: 0.9648, val_loss: 0.1391, val_metric_acc: 0.9579, lr: 0.0010\n",
      "Epoch - 5, model has been saved with loss on validation set - 0.1153\n",
      "\n"
     ]
    },
    {
     "name": "stderr",
     "output_type": "stream",
     "text": [
      "                                                                                       \r"
     ]
    },
    {
     "name": "stdout",
     "output_type": "stream",
     "text": [
      "Epoch [6/50], train_loss: 0.0985, train_metric_acc: 0.9697, val_loss: 0.1438, val_metric_acc: 0.9577, lr: 0.0010\n",
      "Epoch - 6, model has been saved with loss on validation set - 0.0985\n",
      "\n"
     ]
    },
    {
     "name": "stderr",
     "output_type": "stream",
     "text": [
      "                                                                                       \r"
     ]
    },
    {
     "name": "stdout",
     "output_type": "stream",
     "text": [
      "Epoch [7/50], train_loss: 0.0852, train_metric_acc: 0.9735, val_loss: 0.1283, val_metric_acc: 0.9617, lr: 0.0010\n",
      "Epoch - 7, model has been saved with loss on validation set - 0.0852\n",
      "\n"
     ]
    },
    {
     "name": "stderr",
     "output_type": "stream",
     "text": [
      "                                                                                       \r"
     ]
    },
    {
     "name": "stdout",
     "output_type": "stream",
     "text": [
      "Epoch [8/50], train_loss: 0.0764, train_metric_acc: 0.9768, val_loss: 0.1183, val_metric_acc: 0.9664, lr: 0.0010\n",
      "Epoch - 8, model has been saved with loss on validation set - 0.0764\n",
      "\n"
     ]
    },
    {
     "name": "stderr",
     "output_type": "stream",
     "text": [
      "                                                                                       \r"
     ]
    },
    {
     "name": "stdout",
     "output_type": "stream",
     "text": [
      "Epoch [9/50], train_loss: 0.0678, train_metric_acc: 0.9785, val_loss: 0.1221, val_metric_acc: 0.9661, lr: 0.0010\n",
      "Epoch - 9, model has been saved with loss on validation set - 0.0678\n",
      "\n"
     ]
    },
    {
     "name": "stderr",
     "output_type": "stream",
     "text": [
      "                                                                                        \r"
     ]
    },
    {
     "name": "stdout",
     "output_type": "stream",
     "text": [
      "Epoch [10/50], train_loss: 0.0624, train_metric_acc: 0.9803, val_loss: 0.1098, val_metric_acc: 0.9680, lr: 0.0010\n",
      "Epoch - 10, model has been saved with loss on validation set - 0.0624\n",
      "\n"
     ]
    },
    {
     "name": "stderr",
     "output_type": "stream",
     "text": [
      "                                                                                        \r"
     ]
    },
    {
     "name": "stdout",
     "output_type": "stream",
     "text": [
      "Epoch [11/50], train_loss: 0.0580, train_metric_acc: 0.9814, val_loss: 0.1142, val_metric_acc: 0.9673, lr: 0.0010\n",
      "Epoch - 11, model has been saved with loss on validation set - 0.0580\n",
      "\n"
     ]
    },
    {
     "name": "stderr",
     "output_type": "stream",
     "text": [
      "                                                                                        \r"
     ]
    },
    {
     "name": "stdout",
     "output_type": "stream",
     "text": [
      "Epoch [12/50], train_loss: 0.0513, train_metric_acc: 0.9840, val_loss: 0.1095, val_metric_acc: 0.9701, lr: 0.0010\n",
      "Epoch - 12, model has been saved with loss on validation set - 0.0513\n",
      "\n"
     ]
    },
    {
     "name": "stderr",
     "output_type": "stream",
     "text": [
      "                                                                                        \r"
     ]
    },
    {
     "name": "stdout",
     "output_type": "stream",
     "text": [
      "Epoch [13/50], train_loss: 0.0485, train_metric_acc: 0.9837, val_loss: 0.1314, val_metric_acc: 0.9629, lr: 0.0010\n",
      "Epoch - 13, model has been saved with loss on validation set - 0.0485\n",
      "\n"
     ]
    },
    {
     "name": "stderr",
     "output_type": "stream",
     "text": [
      "                                                                                        \r"
     ]
    },
    {
     "name": "stdout",
     "output_type": "stream",
     "text": [
      "Epoch [14/50], train_loss: 0.0413, train_metric_acc: 0.9864, val_loss: 0.1175, val_metric_acc: 0.9680, lr: 0.0010\n",
      "Epoch - 14, model has been saved with loss on validation set - 0.0413\n",
      "\n"
     ]
    },
    {
     "name": "stderr",
     "output_type": "stream",
     "text": [
      "                                                                                        \r"
     ]
    },
    {
     "name": "stdout",
     "output_type": "stream",
     "text": [
      "Epoch [15/50], train_loss: 0.0410, train_metric_acc: 0.9862, val_loss: 0.1155, val_metric_acc: 0.9699, lr: 0.0010\n",
      "Epoch - 15, model has been saved with loss on validation set - 0.0410\n",
      "\n"
     ]
    },
    {
     "name": "stderr",
     "output_type": "stream",
     "text": [
      "                                                                                        \r"
     ]
    },
    {
     "name": "stdout",
     "output_type": "stream",
     "text": [
      "Epoch [16/50], train_loss: 0.0375, train_metric_acc: 0.9875, val_loss: 0.1218, val_metric_acc: 0.9667, lr: 0.0010\n",
      "Epoch - 16, model has been saved with loss on validation set - 0.0375\n",
      "\n"
     ]
    },
    {
     "name": "stderr",
     "output_type": "stream",
     "text": [
      "                                                                                        \r"
     ]
    },
    {
     "name": "stdout",
     "output_type": "stream",
     "text": [
      "Epoch [17/50], train_loss: 0.0337, train_metric_acc: 0.9885, val_loss: 0.1248, val_metric_acc: 0.9664, lr: 0.0010\n",
      "Epoch - 17, model has been saved with loss on validation set - 0.0337\n",
      "\n"
     ]
    },
    {
     "name": "stderr",
     "output_type": "stream",
     "text": [
      "                                                                                        \r"
     ]
    },
    {
     "name": "stdout",
     "output_type": "stream",
     "text": [
      "Epoch [18/50], train_loss: 0.0324, train_metric_acc: 0.9892, val_loss: 0.1251, val_metric_acc: 0.9687, lr: 0.0001\n",
      "Epoch - 18, model has been saved with loss on validation set - 0.0324\n",
      "\n"
     ]
    },
    {
     "name": "stderr",
     "output_type": "stream",
     "text": [
      "                                                                                        \r"
     ]
    },
    {
     "name": "stdout",
     "output_type": "stream",
     "text": [
      "Epoch [19/50], train_loss: 0.0135, train_metric_acc: 0.9964, val_loss: 0.1022, val_metric_acc: 0.9749, lr: 0.0001\n",
      "Epoch - 19, model has been saved with loss on validation set - 0.0135\n",
      "\n"
     ]
    },
    {
     "name": "stderr",
     "output_type": "stream",
     "text": [
      "                                                                                        \r"
     ]
    },
    {
     "name": "stdout",
     "output_type": "stream",
     "text": [
      "Epoch [20/50], train_loss: 0.0105, train_metric_acc: 0.9975, val_loss: 0.1015, val_metric_acc: 0.9753, lr: 0.0001\n",
      "Epoch - 20, model has been saved with loss on validation set - 0.0105\n",
      "\n"
     ]
    },
    {
     "name": "stderr",
     "output_type": "stream",
     "text": [
      "                                                                                        \r"
     ]
    },
    {
     "name": "stdout",
     "output_type": "stream",
     "text": [
      "Epoch [21/50], train_loss: 0.0097, train_metric_acc: 0.9979, val_loss: 0.1037, val_metric_acc: 0.9746, lr: 0.0001\n",
      "Epoch - 21, model has been saved with loss on validation set - 0.0097\n",
      "\n"
     ]
    },
    {
     "name": "stderr",
     "output_type": "stream",
     "text": [
      "                                                                                        \r"
     ]
    },
    {
     "name": "stdout",
     "output_type": "stream",
     "text": [
      "Epoch [22/50], train_loss: 0.0091, train_metric_acc: 0.9981, val_loss: 0.1032, val_metric_acc: 0.9763, lr: 0.0001\n",
      "Epoch - 22, model has been saved with loss on validation set - 0.0091\n",
      "\n"
     ]
    },
    {
     "name": "stderr",
     "output_type": "stream",
     "text": [
      "                                                                                         \r"
     ]
    },
    {
     "name": "stdout",
     "output_type": "stream",
     "text": [
      "Epoch [23/50], train_loss: 0.0085, train_metric_acc: 0.9985, val_loss: 0.1028, val_metric_acc: 0.9756, lr: 0.0001\n",
      "Epoch - 23, model has been saved with loss on validation set - 0.0085\n",
      "\n"
     ]
    },
    {
     "name": "stderr",
     "output_type": "stream",
     "text": [
      "                                                                                         \r"
     ]
    },
    {
     "name": "stdout",
     "output_type": "stream",
     "text": [
      "Epoch [24/50], train_loss: 0.0080, train_metric_acc: 0.9988, val_loss: 0.1021, val_metric_acc: 0.9752, lr: 0.0001\n",
      "Epoch - 24, model has been saved with loss on validation set - 0.0080\n",
      "\n"
     ]
    },
    {
     "name": "stderr",
     "output_type": "stream",
     "text": [
      "                                                                                        \r"
     ]
    },
    {
     "name": "stdout",
     "output_type": "stream",
     "text": [
      "Epoch [25/50], train_loss: 0.0076, train_metric_acc: 0.9988, val_loss: 0.1047, val_metric_acc: 0.9743, lr: 0.0001\n",
      "Epoch - 25, model has been saved with loss on validation set - 0.0076\n",
      "\n"
     ]
    },
    {
     "name": "stderr",
     "output_type": "stream",
     "text": [
      "                                                                                        \r"
     ]
    },
    {
     "name": "stdout",
     "output_type": "stream",
     "text": [
      "Epoch [26/50], train_loss: 0.0075, train_metric_acc: 0.9988, val_loss: 0.1027, val_metric_acc: 0.9758, lr: 0.0000\n",
      "Epoch - 26, model has been saved with loss on validation set - 0.0075\n",
      "\n"
     ]
    },
    {
     "name": "stderr",
     "output_type": "stream",
     "text": [
      "                                                                                        \r"
     ]
    },
    {
     "name": "stdout",
     "output_type": "stream",
     "text": [
      "Epoch [27/50], train_loss: 0.0061, train_metric_acc: 0.9993, val_loss: 0.1025, val_metric_acc: 0.9756, lr: 0.0000\n",
      "Epoch - 27, model has been saved with loss on validation set - 0.0061\n",
      "\n"
     ]
    },
    {
     "name": "stderr",
     "output_type": "stream",
     "text": [
      "                                                                                         \r"
     ]
    },
    {
     "name": "stdout",
     "output_type": "stream",
     "text": [
      "Epoch [28/50], train_loss: 0.0058, train_metric_acc: 0.9994, val_loss: 0.1027, val_metric_acc: 0.9757, lr: 0.0000\n",
      "Epoch - 28, model has been saved with loss on validation set - 0.0058\n",
      "\n"
     ]
    },
    {
     "name": "stderr",
     "output_type": "stream",
     "text": [
      "                                                                                         \r"
     ]
    },
    {
     "name": "stdout",
     "output_type": "stream",
     "text": [
      "Epoch [29/50], train_loss: 0.0058, train_metric_acc: 0.9994, val_loss: 0.1026, val_metric_acc: 0.9758, lr: 0.0000\n",
      "Epoch - 29, model has been saved with loss on validation set - 0.0058\n",
      "\n"
     ]
    },
    {
     "name": "stderr",
     "output_type": "stream",
     "text": [
      "                                                                                         \r"
     ]
    },
    {
     "name": "stdout",
     "output_type": "stream",
     "text": [
      "Epoch [30/50], train_loss: 0.0058, train_metric_acc: 0.9994, val_loss: 0.1027, val_metric_acc: 0.9758, lr: 0.0000\n"
     ]
    },
    {
     "name": "stderr",
     "output_type": "stream",
     "text": [
      "                                                                                        \r"
     ]
    },
    {
     "name": "stdout",
     "output_type": "stream",
     "text": [
      "Epoch [31/50], train_loss: 0.0057, train_metric_acc: 0.9994, val_loss: 0.1027, val_metric_acc: 0.9756, lr: 0.0000\n",
      "Epoch - 31, model has been saved with loss on validation set - 0.0057\n",
      "\n"
     ]
    },
    {
     "name": "stderr",
     "output_type": "stream",
     "text": [
      "                                                                                        \r"
     ]
    },
    {
     "name": "stdout",
     "output_type": "stream",
     "text": [
      "Epoch [32/50], train_loss: 0.0056, train_metric_acc: 0.9994, val_loss: 0.1028, val_metric_acc: 0.9754, lr: 0.0000\n",
      "Epoch - 32, model has been saved with loss on validation set - 0.0056\n",
      "\n"
     ]
    },
    {
     "name": "stderr",
     "output_type": "stream",
     "text": [
      "                                                                                        \r"
     ]
    },
    {
     "name": "stdout",
     "output_type": "stream",
     "text": [
      "Epoch [33/50], train_loss: 0.0055, train_metric_acc: 0.9994, val_loss: 0.1028, val_metric_acc: 0.9754, lr: 0.0000\n",
      "Epoch - 33, model has been saved with loss on validation set - 0.0055\n",
      "\n"
     ]
    },
    {
     "name": "stderr",
     "output_type": "stream",
     "text": [
      "                                                                                         \r"
     ]
    },
    {
     "name": "stdout",
     "output_type": "stream",
     "text": [
      "Epoch [34/50], train_loss: 0.0055, train_metric_acc: 0.9994, val_loss: 0.1028, val_metric_acc: 0.9754, lr: 0.0000\n",
      "Epoch - 34, model has been saved with loss on validation set - 0.0055\n",
      "\n"
     ]
    },
    {
     "name": "stderr",
     "output_type": "stream",
     "text": [
      "                                                                                        \r"
     ]
    },
    {
     "name": "stdout",
     "output_type": "stream",
     "text": [
      "Epoch [35/50], train_loss: 0.0055, train_metric_acc: 0.9994, val_loss: 0.1028, val_metric_acc: 0.9754, lr: 0.0000\n",
      "Epoch - 35, model has been saved with loss on validation set - 0.0055\n",
      "\n"
     ]
    },
    {
     "name": "stderr",
     "output_type": "stream",
     "text": [
      "                                                                                        \r"
     ]
    },
    {
     "name": "stdout",
     "output_type": "stream",
     "text": [
      "Epoch [36/50], train_loss: 0.0055, train_metric_acc: 0.9994, val_loss: 0.1028, val_metric_acc: 0.9754, lr: 0.0000\n",
      "Epoch - 36, model has been saved with loss on validation set - 0.0055\n",
      "\n"
     ]
    },
    {
     "name": "stderr",
     "output_type": "stream",
     "text": [
      "                                                                                        \r"
     ]
    },
    {
     "name": "stdout",
     "output_type": "stream",
     "text": [
      "Epoch [37/50], train_loss: 0.0055, train_metric_acc: 0.9994, val_loss: 0.1028, val_metric_acc: 0.9754, lr: 0.0000\n"
     ]
    },
    {
     "name": "stderr",
     "output_type": "stream",
     "text": [
      "                                                                                        \r"
     ]
    },
    {
     "name": "stdout",
     "output_type": "stream",
     "text": [
      "Epoch [38/50], train_loss: 0.0055, train_metric_acc: 0.9994, val_loss: 0.1028, val_metric_acc: 0.9754, lr: 0.0000\n",
      "Epoch - 38, model has been saved with loss on validation set - 0.0055\n",
      "\n"
     ]
    },
    {
     "name": "stderr",
     "output_type": "stream",
     "text": [
      "                                                                                        \r"
     ]
    },
    {
     "name": "stdout",
     "output_type": "stream",
     "text": [
      "Epoch [39/50], train_loss: 0.0054, train_metric_acc: 0.9994, val_loss: 0.1028, val_metric_acc: 0.9754, lr: 0.0000\n",
      "Epoch - 39, model has been saved with loss on validation set - 0.0054\n",
      "\n"
     ]
    },
    {
     "name": "stderr",
     "output_type": "stream",
     "text": [
      "                                                                                        \r"
     ]
    },
    {
     "name": "stdout",
     "output_type": "stream",
     "text": [
      "Epoch [40/50], train_loss: 0.0055, train_metric_acc: 0.9994, val_loss: 0.1028, val_metric_acc: 0.9754, lr: 0.0000\n"
     ]
    },
    {
     "name": "stderr",
     "output_type": "stream",
     "text": [
      "                                                                                        \r"
     ]
    },
    {
     "name": "stdout",
     "output_type": "stream",
     "text": [
      "Epoch [41/50], train_loss: 0.0055, train_metric_acc: 0.9994, val_loss: 0.1028, val_metric_acc: 0.9754, lr: 0.0000\n"
     ]
    },
    {
     "name": "stderr",
     "output_type": "stream",
     "text": [
      "                                                                                        \r"
     ]
    },
    {
     "name": "stdout",
     "output_type": "stream",
     "text": [
      "Epoch [42/50], train_loss: 0.0054, train_metric_acc: 0.9994, val_loss: 0.1028, val_metric_acc: 0.9754, lr: 0.0000\n"
     ]
    },
    {
     "name": "stderr",
     "output_type": "stream",
     "text": [
      "                                                                                        \r"
     ]
    },
    {
     "name": "stdout",
     "output_type": "stream",
     "text": [
      "Epoch [43/50], train_loss: 0.0054, train_metric_acc: 0.9994, val_loss: 0.1028, val_metric_acc: 0.9754, lr: 0.0000\n"
     ]
    },
    {
     "name": "stderr",
     "output_type": "stream",
     "text": [
      "                                                                                        \r"
     ]
    },
    {
     "name": "stdout",
     "output_type": "stream",
     "text": [
      "Epoch [44/50], train_loss: 0.0054, train_metric_acc: 0.9994, val_loss: 0.1028, val_metric_acc: 0.9754, lr: 0.0000\n"
     ]
    },
    {
     "name": "stderr",
     "output_type": "stream",
     "text": [
      "                                                                                        \r"
     ]
    },
    {
     "name": "stdout",
     "output_type": "stream",
     "text": [
      "Epoch [45/50], train_loss: 0.0054, train_metric_acc: 0.9994, val_loss: 0.1028, val_metric_acc: 0.9754, lr: 0.0000\n",
      "Epoch - 45, model has been saved with loss on validation set - 0.0054\n",
      "\n"
     ]
    },
    {
     "name": "stderr",
     "output_type": "stream",
     "text": [
      "                                                                                        \r"
     ]
    },
    {
     "name": "stdout",
     "output_type": "stream",
     "text": [
      "Epoch [46/50], train_loss: 0.0054, train_metric_acc: 0.9994, val_loss: 0.1028, val_metric_acc: 0.9754, lr: 0.0000\n",
      "Epoch - 46, model has been saved with loss on validation set - 0.0054\n",
      "\n"
     ]
    },
    {
     "name": "stderr",
     "output_type": "stream",
     "text": [
      "                                                                                        \r"
     ]
    },
    {
     "name": "stdout",
     "output_type": "stream",
     "text": [
      "Epoch [47/50], train_loss: 0.0054, train_metric_acc: 0.9994, val_loss: 0.1028, val_metric_acc: 0.9754, lr: 0.0000\n",
      "Epoch - 47, model has been saved with loss on validation set - 0.0054\n",
      "\n"
     ]
    },
    {
     "name": "stderr",
     "output_type": "stream",
     "text": [
      "                                                                                        \r"
     ]
    },
    {
     "name": "stdout",
     "output_type": "stream",
     "text": [
      "Epoch [48/50], train_loss: 0.0054, train_metric_acc: 0.9994, val_loss: 0.1028, val_metric_acc: 0.9754, lr: 0.0000\n"
     ]
    },
    {
     "name": "stderr",
     "output_type": "stream",
     "text": [
      "                                                                                        \r"
     ]
    },
    {
     "name": "stdout",
     "output_type": "stream",
     "text": [
      "Epoch [49/50], train_loss: 0.0054, train_metric_acc: 0.9994, val_loss: 0.1028, val_metric_acc: 0.9754, lr: 0.0000\n"
     ]
    },
    {
     "name": "stderr",
     "output_type": "stream",
     "text": [
      "                                                                                        \r"
     ]
    },
    {
     "name": "stdout",
     "output_type": "stream",
     "text": [
      "Epoch [50/50], train_loss: 0.0055, train_metric_acc: 0.9994, val_loss: 0.1028, val_metric_acc: 0.9754, lr: 0.0000\n"
     ]
    }
   ],
   "execution_count": 14
  },
  {
   "metadata": {
    "ExecuteTime": {
     "end_time": "2024-10-14T05:40:48.520887Z",
     "start_time": "2024-10-14T05:40:48.429229Z"
    }
   },
   "cell_type": "code",
   "source": [
    "plt.plot(lr_list)\n",
    "plt.show()"
   ],
   "id": "abcfd0c55eac24f9",
   "outputs": [
    {
     "data": {
      "text/plain": [
       "<Figure size 640x480 with 1 Axes>"
      ],
      "image/png": "[encoded data removed]"
     },
     "metadata": {},
     "output_type": "display_data"
    }
   ],
   "execution_count": 15
  },
  {
   "metadata": {
    "ExecuteTime": {
     "end_time": "2024-10-14T05:41:49.695399Z",
     "start_time": "2024-10-14T05:41:49.636507Z"
    }
   },
   "cell_type": "code",
   "source": [
    "plt.plot(train_loss)\n",
    "plt.plot(val_loss)\n",
    "plt.legend(['train_loss', 'val_loss'])\n",
    "plt.show()"
   ],
   "id": "a795e7b0ddcdc289",
   "outputs": [
    {
     "data": {
      "text/plain": [
       "<Figure size 640x480 with 1 Axes>"
      ],
      "image/png": "[encoded data removed]"
     },
     "metadata": {},
     "output_type": "display_data"
    }
   ],
   "execution_count": 16
  },
  {
   "metadata": {
    "ExecuteTime": {
     "end_time": "2024-10-14T05:41:51.179467Z",
     "start_time": "2024-10-14T05:41:51.044696Z"
    }
   },
   "cell_type": "code",
   "source": [
    "plt.plot(train_acc)\n",
    "plt.plot(val_acc)\n",
    "plt.legend(['train_acc', 'val_acc'])\n",
    "plt.show()"
   ],
   "id": "4be4a5f77016f25b",
   "outputs": [
    {
     "data": {
      "text/plain": [
       "<Figure size 640x480 with 1 Axes>"
      ],
      "image/png": "[encoded data removed]"
     },
     "metadata": {},
     "output_type": "display_data"
    }
   ],
   "execution_count": 17
  },
  {
   "metadata": {
    "ExecuteTime": {
     "end_time": "2024-10-14T05:54:06.176980Z",
     "start_time": "2024-10-14T05:54:06.171566Z"
    }
   },
   "cell_type": "code",
   "source": [
    "checkpoint = torch.load(f'serialized/classification/classification_model_state_dict_epoch_47.pt')\n",
    "model.load_state_dict(checkpoint)"
   ],
   "id": "565548dcb52a27f0",
   "outputs": [
    {
     "name": "stderr",
     "output_type": "stream",
     "text": [
      "/var/folders/wz/07ctdm5s7rd0j4q2q_5qys5m0000gn/T/ipykernel_3473/3447450064.py:1: FutureWarning: You are using `torch.load` with `weights_only=False` (the current default value), which uses the default pickle module implicitly. It is possible to construct malicious pickle data which will execute arbitrary code during unpickling (See https://github.com/pytorch/pytorch/blob/main/SECURITY.md#untrusted-models for more details). In a future release, the default value for `weights_only` will be flipped to `True`. This limits the functions that could be executed during unpickling. Arbitrary objects will no longer be allowed to be loaded via this mode unless they are explicitly allowlisted by the user via `torch.serialization.add_safe_globals`. We recommend you start setting `weights_only=True` for any use case where you don't have full control of the loaded file. Please open an issue on GitHub for any issues related to this experimental feature.\n",
      "  checkpoint = torch.load(f'serialized/classification/classification_model_state_dict_epoch_47.pt')\n"
     ]
    },
    {
     "data": {
      "text/plain": [
       "<All keys matched successfully>"
      ]
     },
     "execution_count": 19,
     "metadata": {},
     "output_type": "execute_result"
    }
   ],
   "execution_count": 19
  },
  {
   "metadata": {
    "ExecuteTime": {
     "end_time": "2024-10-14T05:54:19.367222Z",
     "start_time": "2024-10-14T05:54:16.471750Z"
    }
   },
   "cell_type": "code",
   "source": [
    "# INFO testing\n",
    "model.eval()\n",
    "with torch.no_grad():\n",
    "    running_test_loss = []\n",
    "    true_answer_counter = 0\n",
    "    for x, targets in test_loader:\n",
    "        # (batch_size, 1, 28, 28) -> (batch_size, 784) |784|size by 1 axis -> input AI\n",
    "        x = x.reshape(-1, 28*28).to(device)\n",
    "            \n",
    "        # (batch_size, int) -> (batch_size, 10), dtype=float32\n",
    "        targets = targets.reshape(-1).to(torch.int32)\n",
    "        targets = torch.eye(10)[targets].to(device)\n",
    "            \n",
    "        prediction = model(x)\n",
    "        loss = loss_model(prediction, targets)\n",
    "            \n",
    "        # INFO training process visualization\n",
    "        running_test_loss.append(loss.item())\n",
    "        mean_test_loss = sum(running_test_loss)/len(running_test_loss)\n",
    "            \n",
    "        true_answer_counter += (prediction.argmax(dim=1) == targets.argmax(dim=1)).sum().item()\n",
    "    \n",
    "    running_test_acc = true_answer_counter / len(test_dataset)\n",
    "    \n",
    "print(f'test_loss: {mean_test_loss:.4f}, test_metric_acc: {running_test_acc:.4f}', end='\\n\\n')\n"
   ],
   "id": "670f68bfda7c9552",
   "outputs": [
    {
     "name": "stdout",
     "output_type": "stream",
     "text": [
      "test_loss: 0.0867, test_metric_acc: 0.9762\n",
      "\n"
     ]
    }
   ],
   "execution_count": 20
  },
  {
   "metadata": {},
   "cell_type": "code",
   "outputs": [],
   "execution_count": null,
   "source": "",
   "id": "c0c289ab4b9f672a"
  }
 ],
 "metadata": {
  "kernelspec": {
   "display_name": "Python 3",
   "language": "python",
   "name": "python3"
  },
  "language_info": {
   "codemirror_mode": {
    "name": "ipython",
    "version": 2
   },
   "file_extension": ".py",
   "mimetype": "text/x-python",
   "name": "python",
   "nbconvert_exporter": "python",
   "pygments_lexer": "ipython2",
   "version": "2.7.6"
  }
 },
 "nbformat": 4,
 "nbformat_minor": 5
}
